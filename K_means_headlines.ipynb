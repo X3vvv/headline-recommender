{
  "nbformat": 4,
  "nbformat_minor": 0,
  "metadata": {
    "colab": {
      "name": "K-means-headlines.ipynb",
      "provenance": [],
      "collapsed_sections": [
        "ee5N3egZwNQW",
        "rzVp6G-fWUpF",
        "LwMUstVi11jy",
        "D3icRLtj4_4f",
        "JYFlxQiA7LRd",
        "V0MwaJW_Azup",
        "aUPd5HYvW0Kh",
        "bRxsi9Jpc7bX",
        "k-hgAEMBPego",
        "S8fDGXe2b70V",
        "4rw54Bm6iIN9",
        "yLcIPccraG-5",
        "fFKA2YltqQsi",
        "m7fk3TeyqZh3",
        "vZjYbA3aqIGJ"
      ]
    },
    "kernelspec": {
      "name": "python3",
      "display_name": "Python 3"
    },
    "language_info": {
      "name": "python"
    }
  },
  "cells": [
    {
      "cell_type": "markdown",
      "source": [
        "# K-means Clustering of 1 million headlines\n",
        "\n",
        "reference: [K-means Clustering of 1 million headlines](https://www.kaggle.com/code/thebrownviking20/k-means-clustering-of-1-million-headlines/notebook)"
      ],
      "metadata": {
        "id": "6dy9LRH1rcu6"
      }
    },
    {
      "cell_type": "markdown",
      "source": [
        "## TODO\n",
        "- `data vectorizing`的时候使用`ngram`策略。但是由于使用后可能会极大的增加训练速度，所以先使用`ngram=1`了解清楚完整流程，然后再进行这项耗时的步骤，防止因为考虑不完备而需要运行多次消耗时间。"
      ],
      "metadata": {
        "id": "p9yWmhwaa6VR"
      }
    },
    {
      "cell_type": "code",
      "execution_count": 1,
      "metadata": {
        "id": "vxqTSMs4rV3L"
      },
      "outputs": [],
      "source": [
        "import numpy as np \n",
        "import pandas as pd \n",
        "import matplotlib.pyplot as plt\n",
        "import seaborn as sns\n",
        "from sklearn.feature_extraction import text\n",
        "from sklearn.feature_extraction.text import TfidfVectorizer\n",
        "from sklearn.cluster import KMeans\n",
        "from nltk.tokenize import RegexpTokenizer\n",
        "from nltk.stem.snowball import SnowballStemmer\n",
        "%matplotlib inline"
      ]
    },
    {
      "cell_type": "markdown",
      "source": [
        "# （可忽略）Practice\n",
        "\n",
        "跟着reference练习一下使用方法。"
      ],
      "metadata": {
        "id": "SlPM28hFZ5yo"
      }
    },
    {
      "cell_type": "markdown",
      "source": [
        "## About the dataset"
      ],
      "metadata": {
        "id": "G4GClHRvtWf0"
      }
    },
    {
      "cell_type": "code",
      "source": [
        "data_path = '/content/drive/MyDrive/A-Million-Headlines/input/abcnews-date-text.csv'\n",
        "headline_col_name = 'headline_text'\n",
        "data = pd.read_csv(data_path, \n",
        "                   on_bad_lines='warn', # warn instead of error when too many param in a row\n",
        "                   usecols=[headline_col_name] # ignore the publish_date col\n",
        "                   )\n",
        "print(data.head())\n",
        "print()\n",
        "print(data.info())"
      ],
      "metadata": {
        "colab": {
          "base_uri": "https://localhost:8080/"
        },
        "id": "UfjF-VPhrh9y",
        "outputId": "ac3465b8-ee5f-4034-cf42-bef943714226"
      },
      "execution_count": 2,
      "outputs": [
        {
          "output_type": "stream",
          "name": "stdout",
          "text": [
            "                                       headline_text\n",
            "0  aba decides against community broadcasting lic...\n",
            "1     act fire witnesses must be aware of defamation\n",
            "2     a g calls for infrastructure protection summit\n",
            "3           air nz staff in aust strike for pay rise\n",
            "4      air nz strike to affect australian travellers\n",
            "\n",
            "<class 'pandas.core.frame.DataFrame'>\n",
            "RangeIndex: 1103665 entries, 0 to 1103664\n",
            "Data columns (total 1 columns):\n",
            " #   Column         Non-Null Count    Dtype \n",
            "---  ------         --------------    ----- \n",
            " 0   headline_text  1103665 non-null  object\n",
            "dtypes: object(1)\n",
            "memory usage: 8.4+ MB\n",
            "None\n"
          ]
        }
      ]
    },
    {
      "cell_type": "markdown",
      "source": [
        "## Deleting duplicate headline (if any)"
      ],
      "metadata": {
        "id": "ee5N3egZwNQW"
      }
    },
    {
      "cell_type": "code",
      "source": [
        "data[\n",
        "     data['headline_text'].duplicated(\n",
        "         keep=False,  # Mark all duplicates as True\n",
        "     ) \n",
        "    ].sort_values('headline_text')"
      ],
      "metadata": {
        "id": "bL3oVWsnwQmU",
        "colab": {
          "base_uri": "https://localhost:8080/",
          "height": 423
        },
        "outputId": "850ee859-c510-48bf-f340-216c71ec5a2c"
      },
      "execution_count": 3,
      "outputs": [
        {
          "output_type": "execute_result",
          "data": {
            "text/plain": [
              "                          headline_text\n",
              "57973   10 killed in pakistan bus crash\n",
              "116304  10 killed in pakistan bus crash\n",
              "912357          110 with barry nicholls\n",
              "673104          110 with barry nicholls\n",
              "676569          110 with barry nicholls\n",
              "...                                 ...\n",
              "836312         zoo stoush heads to vcat\n",
              "855864        zoonotic disease research\n",
              "968356        zoonotic disease research\n",
              "644443         zsa zsa back in hospital\n",
              "651915         zsa zsa back in hospital\n",
              "\n",
              "[35811 rows x 1 columns]"
            ],
            "text/html": [
              "\n",
              "  <div id=\"df-24a395f8-26e9-4a0c-a60f-9d1ac154b2ae\">\n",
              "    <div class=\"colab-df-container\">\n",
              "      <div>\n",
              "<style scoped>\n",
              "    .dataframe tbody tr th:only-of-type {\n",
              "        vertical-align: middle;\n",
              "    }\n",
              "\n",
              "    .dataframe tbody tr th {\n",
              "        vertical-align: top;\n",
              "    }\n",
              "\n",
              "    .dataframe thead th {\n",
              "        text-align: right;\n",
              "    }\n",
              "</style>\n",
              "<table border=\"1\" class=\"dataframe\">\n",
              "  <thead>\n",
              "    <tr style=\"text-align: right;\">\n",
              "      <th></th>\n",
              "      <th>headline_text</th>\n",
              "    </tr>\n",
              "  </thead>\n",
              "  <tbody>\n",
              "    <tr>\n",
              "      <th>57973</th>\n",
              "      <td>10 killed in pakistan bus crash</td>\n",
              "    </tr>\n",
              "    <tr>\n",
              "      <th>116304</th>\n",
              "      <td>10 killed in pakistan bus crash</td>\n",
              "    </tr>\n",
              "    <tr>\n",
              "      <th>912357</th>\n",
              "      <td>110 with barry nicholls</td>\n",
              "    </tr>\n",
              "    <tr>\n",
              "      <th>673104</th>\n",
              "      <td>110 with barry nicholls</td>\n",
              "    </tr>\n",
              "    <tr>\n",
              "      <th>676569</th>\n",
              "      <td>110 with barry nicholls</td>\n",
              "    </tr>\n",
              "    <tr>\n",
              "      <th>...</th>\n",
              "      <td>...</td>\n",
              "    </tr>\n",
              "    <tr>\n",
              "      <th>836312</th>\n",
              "      <td>zoo stoush heads to vcat</td>\n",
              "    </tr>\n",
              "    <tr>\n",
              "      <th>855864</th>\n",
              "      <td>zoonotic disease research</td>\n",
              "    </tr>\n",
              "    <tr>\n",
              "      <th>968356</th>\n",
              "      <td>zoonotic disease research</td>\n",
              "    </tr>\n",
              "    <tr>\n",
              "      <th>644443</th>\n",
              "      <td>zsa zsa back in hospital</td>\n",
              "    </tr>\n",
              "    <tr>\n",
              "      <th>651915</th>\n",
              "      <td>zsa zsa back in hospital</td>\n",
              "    </tr>\n",
              "  </tbody>\n",
              "</table>\n",
              "<p>35811 rows × 1 columns</p>\n",
              "</div>\n",
              "      <button class=\"colab-df-convert\" onclick=\"convertToInteractive('df-24a395f8-26e9-4a0c-a60f-9d1ac154b2ae')\"\n",
              "              title=\"Convert this dataframe to an interactive table.\"\n",
              "              style=\"display:none;\">\n",
              "        \n",
              "  <svg xmlns=\"http://www.w3.org/2000/svg\" height=\"24px\"viewBox=\"0 0 24 24\"\n",
              "       width=\"24px\">\n",
              "    <path d=\"M0 0h24v24H0V0z\" fill=\"none\"/>\n",
              "    <path d=\"M18.56 5.44l.94 2.06.94-2.06 2.06-.94-2.06-.94-.94-2.06-.94 2.06-2.06.94zm-11 1L8.5 8.5l.94-2.06 2.06-.94-2.06-.94L8.5 2.5l-.94 2.06-2.06.94zm10 10l.94 2.06.94-2.06 2.06-.94-2.06-.94-.94-2.06-.94 2.06-2.06.94z\"/><path d=\"M17.41 7.96l-1.37-1.37c-.4-.4-.92-.59-1.43-.59-.52 0-1.04.2-1.43.59L10.3 9.45l-7.72 7.72c-.78.78-.78 2.05 0 2.83L4 21.41c.39.39.9.59 1.41.59.51 0 1.02-.2 1.41-.59l7.78-7.78 2.81-2.81c.8-.78.8-2.07 0-2.86zM5.41 20L4 18.59l7.72-7.72 1.47 1.35L5.41 20z\"/>\n",
              "  </svg>\n",
              "      </button>\n",
              "      \n",
              "  <style>\n",
              "    .colab-df-container {\n",
              "      display:flex;\n",
              "      flex-wrap:wrap;\n",
              "      gap: 12px;\n",
              "    }\n",
              "\n",
              "    .colab-df-convert {\n",
              "      background-color: #E8F0FE;\n",
              "      border: none;\n",
              "      border-radius: 50%;\n",
              "      cursor: pointer;\n",
              "      display: none;\n",
              "      fill: #1967D2;\n",
              "      height: 32px;\n",
              "      padding: 0 0 0 0;\n",
              "      width: 32px;\n",
              "    }\n",
              "\n",
              "    .colab-df-convert:hover {\n",
              "      background-color: #E2EBFA;\n",
              "      box-shadow: 0px 1px 2px rgba(60, 64, 67, 0.3), 0px 1px 3px 1px rgba(60, 64, 67, 0.15);\n",
              "      fill: #174EA6;\n",
              "    }\n",
              "\n",
              "    [theme=dark] .colab-df-convert {\n",
              "      background-color: #3B4455;\n",
              "      fill: #D2E3FC;\n",
              "    }\n",
              "\n",
              "    [theme=dark] .colab-df-convert:hover {\n",
              "      background-color: #434B5C;\n",
              "      box-shadow: 0px 1px 3px 1px rgba(0, 0, 0, 0.15);\n",
              "      filter: drop-shadow(0px 1px 2px rgba(0, 0, 0, 0.3));\n",
              "      fill: #FFFFFF;\n",
              "    }\n",
              "  </style>\n",
              "\n",
              "      <script>\n",
              "        const buttonEl =\n",
              "          document.querySelector('#df-24a395f8-26e9-4a0c-a60f-9d1ac154b2ae button.colab-df-convert');\n",
              "        buttonEl.style.display =\n",
              "          google.colab.kernel.accessAllowed ? 'block' : 'none';\n",
              "\n",
              "        async function convertToInteractive(key) {\n",
              "          const element = document.querySelector('#df-24a395f8-26e9-4a0c-a60f-9d1ac154b2ae');\n",
              "          const dataTable =\n",
              "            await google.colab.kernel.invokeFunction('convertToInteractive',\n",
              "                                                     [key], {});\n",
              "          if (!dataTable) return;\n",
              "\n",
              "          const docLinkHtml = 'Like what you see? Visit the ' +\n",
              "            '<a target=\"_blank\" href=https://colab.research.google.com/notebooks/data_table.ipynb>data table notebook</a>'\n",
              "            + ' to learn more about interactive tables.';\n",
              "          element.innerHTML = '';\n",
              "          dataTable['output_type'] = 'display_data';\n",
              "          await google.colab.output.renderOutput(dataTable, element);\n",
              "          const docLink = document.createElement('div');\n",
              "          docLink.innerHTML = docLinkHtml;\n",
              "          element.appendChild(docLink);\n",
              "        }\n",
              "      </script>\n",
              "    </div>\n",
              "  </div>\n",
              "  "
            ]
          },
          "metadata": {},
          "execution_count": 3
        }
      ]
    },
    {
      "cell_type": "code",
      "source": [
        "# Drop duplicates except for the first occurrence\n",
        "data = data.drop_duplicates('headline_text')\n",
        "print(data.head())\n",
        "print()\n",
        "print(data.info())"
      ],
      "metadata": {
        "colab": {
          "base_uri": "https://localhost:8080/"
        },
        "id": "bT8EbGWAVcUo",
        "outputId": "6e8708a3-c359-43ab-d300-a6ac8a641eba"
      },
      "execution_count": 4,
      "outputs": [
        {
          "output_type": "stream",
          "name": "stdout",
          "text": [
            "                                       headline_text\n",
            "0  aba decides against community broadcasting lic...\n",
            "1     act fire witnesses must be aware of defamation\n",
            "2     a g calls for infrastructure protection summit\n",
            "3           air nz staff in aust strike for pay rise\n",
            "4      air nz strike to affect australian travellers\n",
            "\n",
            "<class 'pandas.core.frame.DataFrame'>\n",
            "Int64Index: 1076225 entries, 0 to 1103664\n",
            "Data columns (total 1 columns):\n",
            " #   Column         Non-Null Count    Dtype \n",
            "---  ------         --------------    ----- \n",
            " 0   headline_text  1076225 non-null  object\n",
            "dtypes: object(1)\n",
            "memory usage: 16.4+ MB\n",
            "None\n"
          ]
        }
      ]
    },
    {
      "cell_type": "markdown",
      "source": [
        "## NLP\n",
        "\n",
        "Vectorize the data & using TF-IDF tool"
      ],
      "metadata": {
        "id": "rzVp6G-fWUpF"
      }
    },
    {
      "cell_type": "markdown",
      "source": [
        "----------------------------"
      ],
      "metadata": {
        "id": "2vf8AidT7Uwc"
      }
    },
    {
      "cell_type": "markdown",
      "source": [
        "值得注意的地方：\n",
        "\n",
        "- 如果原文被特殊处理过，`stop-words`也需要经过相同的处理，否则可能部分失效。(如：*The word we’ve is split into we and ve by CountVectorizer’s default tokenizer, so if we’ve is in stop_words, but ve is not, ve will be retained from we’ve in transformed text. Our vectorizers will try to identify and warn about some kinds of inconsistencies.* See [reference](https://scikit-learn.org/stable/modules/feature_extraction.html#using-stop-words))\n",
        "\n",
        "- 即使再周到的考虑，在未经实践前，也可能有疏漏之处。所以在实践时，及时检查处理得到的结果，从而发现并及时修改以提高模型表现。（如：查看词频结果，删除词频高但遗漏的低效词语；查看`stop-word list`，及时移除需要保留的词汇）\n",
        "\n",
        "- sklearn使用和标准不同的`tf-idf`计算公式 $$IDF(t)=\\log\\frac{1+n}{1+df(t)}+1$$ 而非 $$IDF(t)=\\log\\frac{n}{df(t)}$$ 这是为了避免分母为0的情况，会导致计算出的idf值偏高，但这不会影响不同词之间的排序结果。See [refrence](https://towardsdatascience.com/how-sklearns-tf-idf-is-different-from-the-standard-tf-idf-275fa582e73d)\n"
      ],
      "metadata": {
        "id": "jbpF8frjn6JB"
      }
    },
    {
      "cell_type": "markdown",
      "source": [
        "-------------------------"
      ],
      "metadata": {
        "id": "o8O1Q-wB7XKP"
      }
    },
    {
      "cell_type": "markdown",
      "source": [
        "### Stop words\n",
        "有较多的现成的停用词表可供选择，如\n",
        "\n",
        "- `nltk.corpus.stopwords` (170 words)\n",
        "- `sklearn.feature_extraction.text.ENGLISH_STOP_WORDS` (318 words)\n",
        "\n",
        "这里使用`sklearn`的停用词库，，因为更全面。同时，把标点符号也去掉。"
      ],
      "metadata": {
        "id": "LwMUstVi11jy"
      }
    },
    {
      "cell_type": "code",
      "source": [
        "punc = list('.,\"\\'?!:;()[]{}%')\n",
        "stop_words = text.ENGLISH_STOP_WORDS.union(punc)"
      ],
      "metadata": {
        "id": "u8cGIL_XVu_3"
      },
      "execution_count": 5,
      "outputs": []
    },
    {
      "cell_type": "markdown",
      "source": [
        "### TfidfVectorizer\n",
        "\n",
        "详细参数解释，见[document](https://scikit-learn.org/stable/modules/generated/sklearn.feature_extraction.text.TfidfVectorizer.html#sklearn.feature_extraction.text.TfidfVectorizer)\n",
        "这里把"
      ],
      "metadata": {
        "id": "D3icRLtj4_4f"
      }
    },
    {
      "cell_type": "code",
      "source": [
        "desc = data['headline_text'].values\n",
        "vectorizer = TfidfVectorizer(\n",
        "    input='content',                # default, {'filename', 'file', 'content'}\n",
        "    encoding='utf-8',               # default, useful when files or bytes are given\n",
        "    decode_error='strict',          # default, {'strict', 'ignore', 'replace'}\n",
        "    strip_accents=None,             # default, {'ascii', 'unicode'}\n",
        "    lowercase=True,                 # default\n",
        "    preprocessor=None,              # default\n",
        "    tokenizer=None,                 # default\n",
        "    analyzer='word',                # default\n",
        "    stop_words=stop_words,          # use customized stop words\n",
        "    token_pattern=r\"(?u)\\b\\w\\w+\\b\", # default, regex for token, only used if analyzer=='word'\n",
        "    ngram_range=(1,1),              # default\n",
        "    max_df=1.0,                     # default\n",
        "    min_df=1,                       # default\n",
        "    max_features=None,              # default\n",
        "    vocabulary=None,                # default, pre-provided vocabulary, can also be auto-created from input\n",
        "    binary=False,                   # default\n",
        "    # dtype=float64,                  # default, 'float64' need to be imported\n",
        "    norm='l2',                      # default\n",
        "    use_idf=True,                   # default, whether use idf(t)\n",
        "    smooth_idf=True,                # default, if False, the “1” count is added to the idf instead of the idf’s denominator (see sklearn's tf-idf formula)\n",
        "    sublinear_tf=False,             # default\n",
        "    )\n",
        "X = vectorizer.fit_transform(desc)"
      ],
      "metadata": {
        "id": "lWhZpcjf2FkT"
      },
      "execution_count": 6,
      "outputs": []
    },
    {
      "cell_type": "code",
      "source": [
        "word_features = vectorizer.get_feature_names_out()\n",
        "print(len(word_features))\n",
        "print(word_features[5000:5100])"
      ],
      "metadata": {
        "colab": {
          "base_uri": "https://localhost:8080/"
        },
        "id": "BAK4NuTv6uJR",
        "outputId": "733e8dbc-2a96-4b49-9ff8-2c8796dbd1e5"
      },
      "execution_count": 7,
      "outputs": [
        {
          "output_type": "stream",
          "name": "stdout",
          "text": [
            "96397\n",
            "['abyss' 'ac' 'aca' 'acacia' 'acacias' 'acadamy' 'academia' 'academic'\n",
            " 'academics' 'academies' 'academy' 'academys' 'acai' 'acapulco' 'acars'\n",
            " 'acason' 'acasuso' 'acb' 'acbf' 'acc' 'acca' 'accan' 'accc' 'acccc'\n",
            " 'acccs' 'acccused' 'acce' 'accedes' 'accelerant' 'accelerants'\n",
            " 'accelerate' 'accelerated' 'accelerates' 'accelerating' 'acceleration'\n",
            " 'accelerator' 'accen' 'accent' 'accents' 'accentuate' 'accentuates'\n",
            " 'accentuating' 'accenture' 'accept' 'acceptability' 'acceptable'\n",
            " 'acceptably' 'acceptance' 'acceptances' 'accepted' 'accepting' 'acceptor'\n",
            " 'acceptors' 'accepts' 'accerate' 'acces' 'access' 'accessary' 'accessed'\n",
            " 'accesses' 'accessibility' 'accessible' 'accessing' 'accessories'\n",
            " 'accessory' 'accesss' 'acci' 'accid' 'accide' 'acciden' 'accidenatlly'\n",
            " 'accidenbt' 'accident' 'accidental' 'accidentally' 'accidently'\n",
            " 'accidents' 'acciona' 'accis' 'acclaim' 'acclaimed' 'acclamation'\n",
            " 'acclimatise' 'acco' 'accolade' 'accolades' 'accom' 'accomm' 'accommoda'\n",
            " 'accommodate' 'accommodated' 'accommodates' 'accommodating'\n",
            " 'accommodation' 'accomo' 'accomodation' 'accomommodation' 'accompanied'\n",
            " 'accompanies' 'accompaniment']\n"
          ]
        }
      ]
    },
    {
      "cell_type": "markdown",
      "source": [
        "### Stemming\n",
        "将所有词转化为词根，从而简化处理难度\n",
        "- `SnowballStemmer('english').stem(word)`函数。将返回`word`的词根\n",
        "\n",
        "\n",
        "### Tokenizing\n",
        "将句子打散为 词 + 标点符号\n",
        "- `nltk.tokenize.RegexpTokenizer(regex).tokenize(sentence)`函数。将返回一个`token`组成的列表，`token`的样式由`regex`表达式决定，如：`[a-zA-Z\\']+`将认为`he`，`dog's`，`Cat`都是一个`token`"
      ],
      "metadata": {
        "id": "JYFlxQiA7LRd"
      }
    },
    {
      "cell_type": "markdown",
      "source": [
        "[评论 @Sumeet Siddhartha](https://www.kaggle.com/code/thebrownviking20/k-means-clustering-of-1-million-headlines/comments)提到此处可以优化\n",
        "\n",
        "\n",
        "```\n",
        "stemmer = SnowballStemmer('english')\n",
        "tokenizer = RegexpTokenizer(r'[a-zA-Z\\']+')\n",
        "from nltk.stem import WordNetLemmatizer\n",
        "lemmatizer = WordNetLemmatizer()\n",
        "\n",
        "def tokenize(text):\n",
        "    return [lemmatizer.lemmatize(word) for word in tokenizer.tokenize(text.lower())]\n",
        "```"
      ],
      "metadata": {
        "id": "u9JZVsDjAfCp"
      }
    },
    {
      "cell_type": "code",
      "source": [
        "stemmer = SnowballStemmer('english') # choose language to use for SnowballStemmer\n",
        "tokenizer = RegexpTokenizer(r'[a-zA-Z\\']+')\n",
        "\n",
        "def tokenize(text):\n",
        "    return [\n",
        "        stemmer.stem(word) \n",
        "        for word in tokenizer.tokenize(text.lower())\n",
        "    ]\n",
        "\n",
        "# tokenized_stop_words = []\n",
        "# for word in stop_words:\n",
        "#     tokens = tokenizer.tokenize(word.lower())\n",
        "#     for token in tokens:\n",
        "#         tokenized_stop_words.append(stemmer.stem(token))\n",
        "tokenized_stop_words = tokenize(' '.join(stop_words))"
      ],
      "metadata": {
        "id": "AURwr8pU7h8Y"
      },
      "execution_count": 30,
      "outputs": []
    },
    {
      "cell_type": "code",
      "source": [
        "vectorizer2 = TfidfVectorizer(\n",
        "    stop_words=tokenized_stop_words,\n",
        "    tokenizer=tokenize, # use customized tokenizer (func `tokenize`)\n",
        ")\n",
        "X2 = vectorizer2.fit_transform(desc)\n",
        "word_features2 = vectorizer2.get_feature_names_out()\n",
        "print(len(word_features2))\n",
        "print(word_features2[:50])"
      ],
      "metadata": {
        "colab": {
          "base_uri": "https://localhost:8080/"
        },
        "id": "XsCKLXyZ_QfM",
        "outputId": "57c91e63-aab5-4f8a-a8f1-767ec2fd53b5"
      },
      "execution_count": 25,
      "outputs": [
        {
          "output_type": "stream",
          "name": "stderr",
          "text": [
            "/usr/local/lib/python3.7/dist-packages/sklearn/feature_extraction/text.py:401: UserWarning: Your stop_words may be inconsistent with your preprocessing. Tokenizing the stop words generated tokens ['anywh', 'el', 'elsewh', 'everywh', 'ind', 'otherwi', 'plea', 'somewh'] not in stop_words.\n",
            "  % sorted(inconsistent)\n"
          ]
        },
        {
          "output_type": "stream",
          "name": "stdout",
          "text": [
            "65173\n",
            "[\"'a\" \"'i\" \"'s\" \"'t\" 'aa' 'aaa' 'aaahhh' 'aac' 'aacc' 'aaco' 'aacta' 'aad'\n",
            " 'aadmi' 'aag' 'aagaard' 'aagard' 'aah' 'aalto' 'aam' 'aamer' 'aami'\n",
            " 'aamodt' 'aandahl' 'aant' 'aap' 'aapa' 'aapt' 'aar' 'aaradhna' 'aardman'\n",
            " 'aardvark' 'aargau' 'aaron' 'aaronpaul' 'aarwun' 'aat' 'ab' 'aba'\n",
            " 'abaaoud' 'ababa' 'aback' 'abadi' 'abadon' 'abal' 'abalon' 'abalonv'\n",
            " 'abama' 'abandon' 'abandond' 'abandong']\n"
          ]
        }
      ]
    },
    {
      "cell_type": "markdown",
      "source": [
        "### max_features=1000\n",
        "[评论 @Steve Tan](https://www.kaggle.com/code/thebrownviking20/k-means-clustering-of-1-million-headlines/comments)提到此处使用`max_features`\n",
        "\n",
        "```\n",
        "vectorizer3 = TfidfVectorizer(stop_words = stop_words, tokenizer = tokenize, max_features = 1000)\n",
        "```\n",
        "可以提高分数\n",
        "```\n",
        "from sklearn.metrics import silhouette_score\n",
        "silhouette_score(X3, labels=kmeans.predict(X3))\n",
        "```\n",
        "\n"
      ],
      "metadata": {
        "id": "V0MwaJW_Azup"
      }
    },
    {
      "cell_type": "code",
      "source": [
        "vectorizer3 = TfidfVectorizer(\n",
        "    stop_words=tokenized_stop_words,\n",
        "    tokenizer=tokenize,\n",
        "    max_features=1000,\n",
        ")\n",
        "X3 = vectorizer3.fit_transform(desc)\n",
        "word_features3 = vectorizer3.get_feature_names_out()\n",
        "print(len(word_features3))\n",
        "print(word_features3[:50])"
      ],
      "metadata": {
        "colab": {
          "base_uri": "https://localhost:8080/"
        },
        "id": "XYSL0654_iT8",
        "outputId": "c82dcfa2-8c7e-4139-a942-1220b5f45e92"
      },
      "execution_count": 35,
      "outputs": [
        {
          "output_type": "stream",
          "name": "stderr",
          "text": [
            "/usr/local/lib/python3.7/dist-packages/sklearn/feature_extraction/text.py:401: UserWarning: Your stop_words may be inconsistent with your preprocessing. Tokenizing the stop words generated tokens ['anywh', 'el', 'elsewh', 'everywh', 'ind', 'otherwi', 'plea', 'somewh'] not in stop_words.\n",
            "  % sorted(inconsistent)\n"
          ]
        },
        {
          "output_type": "stream",
          "name": "stdout",
          "text": [
            "1000\n",
            "['abbott' 'abc' 'aborigin' 'abus' 'access' 'accid' 'accus' 'act' 'action'\n",
            " 'ad' 'address' 'adelaid' 'admit' 'affect' 'afghan' 'afghanistan' 'afl'\n",
            " 'africa' 'age' 'agre' 'agreement' 'ahead' 'aid' 'aim' 'air' 'airport'\n",
            " 'al' 'alcohol' 'alert' 'alic' 'alleg' 'allow' 'alp' 'ambul' 'amid'\n",
            " 'andrew' 'anger' 'anim' 'announc' 'anti' 'anzac' 'appeal' 'appear'\n",
            " 'appoint' 'approv' 'area' 'arm' 'armi' 'arrest' 'arriv']\n"
          ]
        }
      ]
    },
    {
      "cell_type": "markdown",
      "source": [
        "## K-means clustering"
      ],
      "metadata": {
        "id": "aUPd5HYvW0Kh"
      }
    },
    {
      "cell_type": "markdown",
      "source": [
        "### Elbow method\n",
        "\n",
        "使用“肘部法则”选择合适的`k`值。"
      ],
      "metadata": {
        "id": "bRxsi9Jpc7bX"
      }
    },
    {
      "cell_type": "code",
      "source": [
        "from sklearn.cluster import KMeans\n",
        "from tqdm import tqdm\n",
        "\n",
        "wcss = []\n",
        "for i in tqdm(range(1,15)):\n",
        "    kmeans = KMeans(\n",
        "        n_clusters=i,       # applying elbow strategy\n",
        "        init='k-means++',   # default\n",
        "        n_init=10,          # default\n",
        "        max_iter=300,       # default\n",
        "        tol=0.0001,         # default\n",
        "        verbose=0,          # default\n",
        "        random_state=0,     # determine random number generation for centroid initialization.\n",
        "        copy_x=True,        # default\n",
        "        algorithm='auto',   # default\n",
        "        )\n",
        "    kmeans.fit(X3)\n",
        "    wcss.append(kmeans.inertia_)\n",
        "plt.plot(range(1,15), wcss)\n",
        "plt.title('The Elbow Method')\n",
        "plt.xlabel('Number of clusters')\n",
        "plt.ylabel('WCSS')\n",
        "plt.savefig('elbow.png')\n",
        "plt.show()"
      ],
      "metadata": {
        "colab": {
          "base_uri": "https://localhost:8080/",
          "height": 313
        },
        "id": "V_8s_8qjW6o1",
        "outputId": "a14906d6-9a0d-4d62-a805-7fe762ab754a"
      },
      "execution_count": 36,
      "outputs": [
        {
          "output_type": "stream",
          "name": "stderr",
          "text": [
            "100%|██████████| 14/14 [10:22<00:00, 44.44s/it]\n"
          ]
        },
        {
          "output_type": "display_data",
          "data": {
            "text/plain": [
              "<Figure size 432x288 with 1 Axes>"
            ],
            "image/png": "[encoded data removed]"
          },
          "metadata": {
            "needs_background": "light"
          }
        }
      ]
    },
    {
      "cell_type": "markdown",
      "source": [
        "### Start clustering"
      ],
      "metadata": {
        "id": "d0bWaxVec-bJ"
      }
    },
    {
      "cell_type": "markdown",
      "source": [
        "### 7 clusters"
      ],
      "metadata": {
        "id": "k-hgAEMBPego"
      }
    },
    {
      "cell_type": "code",
      "source": [
        "kmeans7 = KMeans(\n",
        "    n_clusters=7,  # cluter number\n",
        "    n_init=20,      # number of interations for clustering\n",
        ")\n",
        "kmeans7.fit(X3)\n",
        "\n",
        "# cluster_centers_: ndarray (shape=(7, 1000))\n",
        "# [:, -1:-26:-1]: print first 25 words\n",
        "common_words = kmeans7.cluster_centers_.argsort()[:, -1:-26:-1]\n",
        "\n",
        "for num, centroid in enumerate(common_words):\n",
        "    print(\n",
        "        str(num)+\n",
        "        ' : '+\n",
        "        ', '.join(word_features3[word] for word in centroid))"
      ],
      "metadata": {
        "colab": {
          "base_uri": "https://localhost:8080/"
        },
        "id": "3JPhMV-OPd0r",
        "outputId": "2b78ff5b-53bc-4b26-a196-6e502340ebd8"
      },
      "execution_count": 42,
      "outputs": [
        {
          "output_type": "stream",
          "name": "stdout",
          "text": [
            "0 : new, win, council, australia, govt, court, report, charg, kill, warn, australian, urg, fund, face, open, water, nsw, death, crash, year, claim, chang, wa, sydney, attack\n",
            "1 : polic, investig, probe, offic, search, hunt, death, car, arrest, drug, miss, shoot, seek, charg, driver, crash, attack, murder, assault, suspect, fatal, raid, warn, station, woman\n",
            "2 : say, polic, need, govt, minist, mp, expert, union, council, australia, report, labor, group, wont, opposit, govern, new, public, pm, chang, time, health, wa, chief, mayor\n",
            "3 : interview, extend, nrl, michael, afl, john, speak, david, mark, smith, andrew, jame, peter, scott, polic, toni, william, minist, cricket, ceo, brown, jone, author, clark, abc\n",
            "4 : plan, council, govt, new, water, develop, say, hous, group, chang, unveil, reject, park, urg, centr, public, expans, green, resid, health, reveal, govern, labor, opposit, power\n",
            "5 : qld, miss, search, rural, north, central, govt, podcast, woman, health, flood, continu, govern, new, hour, safe, bodi, outback, countri, western, report, coast, south, dead, storm\n",
            "6 : man, charg, jail, murder, court, polic, die, stab, face, arrest, miss, assault, accus, guilti, kill, attack, death, car, crash, child, shoot, sydney, sex, plead, search\n"
          ]
        }
      ]
    },
    {
      "cell_type": "code",
      "source": [
        "joblib.dump(kmeans7, 'k_means_headlines_7_cluster_model.pkl')"
      ],
      "metadata": {
        "colab": {
          "base_uri": "https://localhost:8080/"
        },
        "id": "svAf_takPrAn",
        "outputId": "f0656e06-bc2b-4762-e9dd-e0896b7d9bd3"
      },
      "execution_count": 43,
      "outputs": [
        {
          "output_type": "execute_result",
          "data": {
            "text/plain": [
              "['k_means_headlines_7_cluster_model']"
            ]
          },
          "metadata": {},
          "execution_count": 43
        }
      ]
    },
    {
      "cell_type": "markdown",
      "source": [
        "### 10 clusters\n",
        "\n",
        "看图发现10那里拐点最明显"
      ],
      "metadata": {
        "id": "S8fDGXe2b70V"
      }
    },
    {
      "cell_type": "code",
      "source": [
        "kmeans10 = KMeans(\n",
        "    n_clusters=10,  # cluter number\n",
        "    n_init=20,      # number of interations for clustering\n",
        ")\n",
        "kmeans10.fit(X3)\n",
        "\n",
        "# cluster_centers_: ndarray (shape=(10, 1000))\n",
        "# [:, -1:-26:-1]: print first 25 words\n",
        "common_words = kmeans10.cluster_centers_.argsort()[:, -1:-26:-1]\n",
        "\n",
        "for num, centroid in enumerate(common_words):\n",
        "    print(\n",
        "        str(num)+\n",
        "        ' : '+\n",
        "        ', '.join(word_features3[word] for word in centroid))"
      ],
      "metadata": {
        "colab": {
          "base_uri": "https://localhost:8080/"
        },
        "id": "YGV_JCQ6cAhZ",
        "outputId": "22b71679-cf31-4117-d54c-82612e11366b"
      },
      "execution_count": 37,
      "outputs": [
        {
          "output_type": "stream",
          "name": "stdout",
          "text": [
            "0 : say, plan, report, water, need, chang, group, public, minist, rural, govern, health, resid, urg, mp, releas, labor, restrict, green, cut, opposit, australia, farmer, murray, mayor\n",
            "1 : polic, interview, investig, probe, man, search, offic, hunt, miss, arrest, car, death, shoot, drug, seek, attack, assault, crash, murder, charg, driver, say, suspect, fatal, raid\n",
            "2 : win, award, cup, titl, open, gold, stage, world, final, tour, australia, lead, seri, aussi, claim, second, australian, big, grand, england, m, battl, race, record, sydney\n",
            "3 : sa, make, indigen, rural, health, countri, communiti, hour, chang, plan, fund, job, govern, land, say, boost, leader, group, histori, return, report, urg, start, art, hous\n",
            "4 : new, council, plan, zealand, consid, law, fund, year, centr, seek, water, rate, urg, open, develop, look, hope, land, mayor, push, deal, hospit, home, set, park\n",
            "5 : week, pacif, speak, highway, beat, island, ban, market, end, nation, miss, face, forum, share, worker, australia, trade, lose, polit, high, wrap, say, report, new, game\n",
            "6 : govt, nsw, urg, fund, rural, plan, countri, hour, qld, vic, act, accus, fed, wa, say, water, consid, local, sa, defend, opposit, m, nt, reject, report\n",
            "7 : australia, kill, court, warn, australian, crash, death, open, fund, face, year, urg, day, hit, attack, sydney, claim, chang, wa, qld, world, set, hous, hospit, home\n",
            "8 : man, charg, murder, court, face, jail, assault, stab, die, death, guilti, drug, child, sex, accus, attack, woman, crash, arrest, car, kill, miss, sydney, plead, alleg\n",
            "9 : elect, campaign, labor, win, vote, candid, result, wa, council, poll, mayor, presid, parti, liber, new, nsw, surgeri, feder, promis, queensland, leader, pm, earli, qld, say\n"
          ]
        }
      ]
    },
    {
      "cell_type": "markdown",
      "source": [
        "## save & load model & festures\n",
        "\n",
        "[reference](https://cloud.tencent.com/developer/article/1692491)"
      ],
      "metadata": {
        "id": "4rw54Bm6iIN9"
      }
    },
    {
      "cell_type": "code",
      "source": [
        "import joblib"
      ],
      "metadata": {
        "id": "dxjn8UGJncga"
      },
      "execution_count": 38,
      "outputs": []
    },
    {
      "cell_type": "markdown",
      "source": [
        "### save model"
      ],
      "metadata": {
        "id": "4QA4zRTBjNZo"
      }
    },
    {
      "cell_type": "code",
      "source": [
        "joblib.dump(kmeans7, \"k_means_headlines_7_cluster_model.pkl\")\n",
        "joblib.dump(kmeans10, \"k_means_headlines_10_cluster_model.pkl\")\n",
        "joblib.dump(word_features3, 'k_means_headlines_1000_max_feature_names.pkl')"
      ],
      "metadata": {
        "colab": {
          "base_uri": "https://localhost:8080/"
        },
        "id": "G8nxK_CPnbLF",
        "outputId": "cc6b728c-5611-4e56-f1ab-3746c97f98fe"
      },
      "execution_count": 39,
      "outputs": [
        {
          "output_type": "execute_result",
          "data": {
            "text/plain": [
              "['k_means_headlines_10_cluster_feature_names.pkl']"
            ]
          },
          "metadata": {},
          "execution_count": 39
        }
      ]
    },
    {
      "cell_type": "markdown",
      "source": [
        "### load model"
      ],
      "metadata": {
        "id": "IW9CT5aFjBjj"
      }
    },
    {
      "cell_type": "code",
      "source": [
        "loaded_kmeans7_model = joblib.load(\"k_means_headlines_7_cluster_model.pkl\")\n",
        "loaded_kmeans10_model = joblib.load(\"k_means_headlines_10_cluster_model.pkl\")\n",
        "loaded_kmeans_feature_names = joblib.load('k_means_headlines_1000_max_feature_names.pkl')"
      ],
      "metadata": {
        "id": "1dhfEwnAi6T7"
      },
      "execution_count": 41,
      "outputs": []
    },
    {
      "cell_type": "markdown",
      "source": [
        ""
      ],
      "metadata": {
        "id": "quUjSw9Wnq_Q"
      }
    },
    {
      "cell_type": "markdown",
      "source": [
        "# （真正内容）Application: News Recommandation\n",
        "\n",
        "目标：\n",
        "- 输入：一个用户正在读的新闻的标题，一堆用户未来可能读的新闻的标题\n",
        "- 输出：按照用户未来阅读可能性排序的新闻标题"
      ],
      "metadata": {
        "id": "VHavtET-jc8D"
      }
    },
    {
      "cell_type": "markdown",
      "source": [
        "## （可忽略）热身"
      ],
      "metadata": {
        "id": "yLcIPccraG-5"
      }
    },
    {
      "cell_type": "markdown",
      "source": [
        "### check our loaded model and feature names"
      ],
      "metadata": {
        "id": "fFKA2YltqQsi"
      }
    },
    {
      "cell_type": "code",
      "source": [
        "classified_words = loaded_kmeans_model.cluster_centers_.argsort()[:, ::-1]\n",
        "\n",
        "for num, centroid in enumerate(classified_words):\n",
        "    print(\n",
        "        str(num)+\n",
        "        ' : '+\n",
        "        ', '.join(loaded_kmeans_feature_names[word] for word in centroid))"
      ],
      "metadata": {
        "colab": {
          "base_uri": "https://localhost:8080/"
        },
        "id": "XrX6p1s_ji7A",
        "outputId": "0700fdea-52fd-4ce7-d233-11b7659a3d50"
      },
      "execution_count": 112,
      "outputs": [
        {
          "output_type": "stream",
          "name": "stdout",
          "text": [
            "0 : new, plan, council, govt, urg, water, consid, law, zealand, develop, centr, nsw, qld, chang, hous, hospit, reject, year, seek, group, m, park, health, wa, boost, mayor, rate, open, push, sa, land, announc, local, defend, support, green, elect, welcom, unveil, servic, meet, help, act, school, set, power, concern, indigen, approv, minist, hope, deal, region, look, offer, work, vic, job, merger, opposit, cut, home, manag, public, nt, industri, shire, want, accus, reveal, labor, nation, vote, review, rule, port, resid, fear, farm, rise, face, secur, communiti, site, rail, cost, coast, tourism, busi, attack, budget, delay, launch, appoint, releas, road, worker, fight, mp, build, scheme, question, protect, decis, promis, ceo, citi, light, south, air, pm, chief, criticis, govern, airport, plant, talk, state, expans, feder, pay, propos, protest, sign, ahead, union, test, tax, sale, murray, high, polici, station, project, tas, farmer, fed, train, need, action, flood, deni, make, sydney, save, presid, court, hit, doctor, discuss, lake, coal, begin, wast, research, leader, west, stop, wind, safeti, big, bid, start, time, track, futur, miner, spark, north, cancer, sought, target, care, pledg, inquiri, case, worri, dump, focus, respons, gas, river, continu, record, trial, wont, campaign, gold, probe, councillor, australian, revamp, transport, life, aim, win, adelaid, use, anti, dam, studi, iraq, drug, tackl, doubt, newcastl, pressur, hill, car, charg, emerg, forc, head, slam, canberra, hold, ask, aid, unit, hear, rural, program, spend, brisban, parti, drought, coach, upgrad, control, rais, bendigo, rudd, irrig, challeng, town, reform, bridg, energi, teacher, world, pool, educ, fish, staff, offic, market, club, trade, critic, england, super, way, boss, contract, debat, aborigin, creat, prison, issu, investig, keen, china, decid, age, lead, queensland, child, bay, price, compani, art, youth, cabinet, poll, fail, food, darwin, premier, dog, sell, medic, improv, form, restrict, flag, nurs, hunter, expect, legal, end, day, agre, fee, lobbi, grant, student, uni, old, bushfir, owner, shop, appeal, telstra, famili, marin, speed, share, perth, bank, address, board, candid, benefit, close, island, ir, senat, melbourn, stand, zone, jail, comment, strike, bus, better, liber, role, climat, anger, confirm, beach, sex, join, buy, committe, rescu, race, parliament, prepar, sack, free, export, terror, team, east, deliv, agreement, increas, oper, drop, financi, tasmanian, search, blame, confid, mental, commit, boat, b, broken, tasmania, impact, closur, sport, nuclear, polit, highway, demand, remov, defenc, treatment, alic, invest, war, threat, alcohol, woe, told, clean, alp, celebr, coalit, fuel, clear, link, bodi, await, grower, return, million, readi, tree, solar, eas, row, fix, children, run, play, extend, prompt, welfar, death, process, tough, bring, limit, ad, firm, beat, threaten, central, step, resourc, game, heritag, forest, asylum, growth, near, aust, author, mix, violenc, director, hotel, pc, quit, bush, valley, allow, area, abus, phone, fli, right, reduc, drive, hobart, cattl, order, number, scientist, line, tip, book, outback, crime, suppli, problem, effort, flight, film, crisi, leav, mackay, member, shortag, women, howard, loom, disput, carbon, risk, block, northern, driver, western, hand, pass, long, ralli, reef, creek, access, dismiss, term, econom, mount, general, memori, harbour, abc, pacif, tour, chines, retir, fine, red, victim, takeov, festiv, patient, figur, detent, truck, flu, southern, ship, png, highlight, uranium, whale, victorian, break, like, evid, ex, low, abbott, properti, illeg, draw, money, anim, countri, live, posit, reach, hall, peac, vow, victoria, refuge, disabl, level, japan, hunt, media, licenc, mps, iraqi, turnbul, happi, black, relief, wait, prais, cap, list, grain, lawyer, independ, lift, point, great, dairi, base, mark, lose, forum, camp, townsvill, oil, murder, major, dollar, replac, univers, drink, peopl, turn, spot, survey, sea, second, kill, commiss, despit, traffic, tv, homeless, travel, smoke, monitor, beatti, fiji, kimberley, final, wine, ambul, parent, histor, tourist, qanta, obama, st, seeker, resign, underway, season, award, israel, korea, renew, offici, troop, refus, cash, retail, expert, alleg, rock, privat, burn, debt, mid, british, star, street, remain, corrupt, product, aussi, disast, earli, asbesto, fall, success, battl, befor, commission, k, miss, judg, eye, iran, seat, tri, afl, gippsland, bird, condit, taxi, hors, cup, gillard, doubl, cross, storm, intern, lower, stay, come, sugar, tell, hail, domest, import, damag, amid, shark, diseas, roll, caus, grow, croc, explain, india, swan, john, visit, place, pakistan, leak, loss, becom, petrol, axe, militari, uk, music, royal, social, crackdown, s, nz, post, thousand, week, wild, young, blast, speak, construct, crop, dead, recoveri, foreign, palestinian, human, reopen, blue, cricket, jet, arriv, russia, date, produc, withdraw, reserv, sheep, firefight, church, titl, given, predict, receiv, away, thai, declar, remot, strong, execut, key, cyclon, hour, suspend, send, territori, small, possibl, far, rugbi, honour, donat, good, compens, breach, christma, confer, economi, g, ground, islam, rebel, struggl, beef, king, armi, trump, brumbi, host, bomb, kid, check, indonesia, cat, leagu, seri, giant, cancel, result, admit, slow, follow, global, watch, blow, extra, arrest, avoid, sentenc, goe, olymp, surpris, stock, short, rio, timor, fruit, gun, men, card, shoot, japanes, tiger, video, ban, babi, spring, affect, elder, kangaroo, surgeri, rain, heart, onlin, player, toll, stolen, suffer, complet, danger, zimbabw, wallabi, tsunami, higher, e, sector, nrl, leadership, afghan, gaza, assault, origin, suspect, month, brown, night, anzac, n, white, boom, anoth, collaps, smith, hurt, stage, volunt, plane, seven, fraud, fund, teen, pilot, shock, histori, sri, inquest, woman, injuri, peter, pull, border, forecast, evacu, andrew, wall, crew, clash, die, dure, cop, gay, gain, hundr, capit, indian, weather, plead, mother, news, lost, real, boy, safe, biki, walk, syria, fan, franc, match, nrn, hot, william, crowd, africa, squad, late, david, best, bail, surg, indonesian, plea, accid, suicid, rape, michael, veteran, march, spill, clark, french, profit, victori, bali, convict, dri, philippin, afghanistan, isra, footbal, al, arm, stori, quak, scott, toni, russian, marriag, lanka, surviv, heat, explos, harvest, coron, friend, escap, chanc, jame, held, blaze, scare, donald, girl, champion, killer, seiz, bomber, knight, grand, guilti, ice, v, rare, soldier, sexual, teenag, winner, jone, ash, alert, crow, weekend, round, london, destroy, survivor, farewel, tribut, injur, shot, bad, coupl, attempt, lion, brother, raid, fatal, th, resum, wit, caught, hawk, socceroo, eagl, jump, bulldog, journalist, riot, recov, warrior, yo, claim, custodi, interview, bull, bronco, pair, appear, drown, theft, polic, edg, son, father, chase, incid, bash, drum, rememb, juli, brawl, grandstand, say, friday, septemb, semi, wife, robberi, stab, report, smash, podcast, man, crash, warn, australia\n",
            "1 : win, charg, court, australian, kill, interview, open, face, death, water, nsw, sydney, year, attack, hit, urg, chang, set, day, world, wa, qld, final, elect, home, hous, talk, murder, lead, return, jail, rise, nation, test, miss, hospit, market, flood, cup, farmer, health, school, continu, job, make, woman, fear, cut, price, accus, help, die, sa, worker, china, hope, trial, power, protest, concern, fight, coast, record, drug, work, end, aussi, servic, boost, dead, minist, green, countri, case, rate, meet, melbourn, m, group, close, industri, deal, time, rural, support, south, labor, push, gold, famili, arrest, forc, want, adelaid, car, north, hour, busi, high, indigen, iraq, strike, fall, pm, train, resid, road, storm, defend, mp, share, head, centr, pay, budget, canberra, rule, sex, leader, rain, inquiri, law, queensland, child, nt, farm, act, investig, secur, lose, big, play, seek, communiti, offer, deni, appeal, begin, futur, union, look, student, leav, victim, west, sale, speak, run, studi, alleg, hold, brisban, public, hear, race, park, delay, award, start, tour, sign, perth, review, state, port, vote, season, teen, consid, expect, bomb, driver, mayor, releas, tiger, trade, tax, sentenc, action, guilti, bid, welcom, women, fine, target, opposit, research, search, drought, need, war, cost, land, doctor, prison, campaign, blue, rescu, region, decis, blaze, question, assault, probe, bank, break, island, bushfir, game, use, battl, star, feder, ahead, air, second, red, dog, join, england, clash, clear, live, bodi, launch, afl, injur, titl, pakistan, beat, near, challeng, chief, confid, vic, damag, tas, threat, aid, local, develop, india, river, hill, abus, media, reject, safeti, victori, compani, leagu, drop, announc, turn, darwin, premier, threaten, week, remain, save, blast, unit, parti, polit, debat, team, prepar, gas, life, spark, liber, celebr, injuri, news, tasmania, stay, black, project, told, children, japan, fail, olymp, free, shoot, drum, aust, tasmanian, demand, build, club, stand, men, presid, rudd, senat, honour, offic, loss, fish, shark, stop, blame, profit, caus, increas, murray, extend, abc, link, teacher, east, babi, rail, boy, emerg, hunter, reveal, cyclon, visit, citi, station, good, tourism, anti, peopl, young, readi, soldier, food, track, export, festiv, grower, violenc, abbott, coach, suspect, plant, oil, drive, cattl, weather, miner, nrn, boat, despit, town, parliament, cancer, coal, promis, nz, risk, right, control, scheme, discuss, million, mark, troop, critic, poll, number, toll, accid, bush, rais, quit, thousand, author, way, chines, ralli, retir, line, protect, john, confirm, focus, hobart, grandstand, light, climat, airport, nurs, nrl, defenc, reach, beach, victoria, firefight, propos, doubt, christma, wont, program, plead, wallabi, hand, crisi, approv, youth, png, art, asylum, player, podcast, doubl, inquest, care, terror, tell, polici, dollar, obama, bail, like, tip, draw, issu, order, flu, site, girl, korea, come, staff, aborigin, crime, indonesia, list, manag, grant, candid, wind, crop, post, shire, royal, offici, fuel, legal, earli, newcastl, pressur, worri, resign, intern, sea, pacif, clean, round, fli, howard, step, strong, goe, age, highlight, crew, oper, trump, march, eye, educ, anoth, king, tourist, flight, stab, scientist, ship, sell, smith, british, wait, dairi, slam, problem, burn, point, closur, boss, impact, nuclear, rock, swan, dump, upgrad, bring, escap, long, match, aim, expert, whale, predict, lawyer, central, iraqi, struggl, super, mother, street, bull, ex, lake, condit, admit, truck, disput, suspend, arriv, shot, suicid, film, row, bus, wild, french, turnbul, carbon, spot, improv, stage, northern, old, mental, survey, lion, hunt, patient, bomber, hors, result, western, grain, indian, month, eas, firm, low, fatal, commiss, energi, wine, contract, st, rebel, drink, bay, victorian, comment, william, uk, harvest, better, david, owner, reform, parent, refuge, highway, pledg, grow, marin, cross, dam, capit, money, vow, seeker, prompt, bird, foreign, qanta, sack, friday, gun, afghan, respons, peter, ash, refus, iran, pull, gillard, raid, judg, grand, shortag, best, socceroo, product, tree, origin, great, dure, fan, cricket, key, outback, woe, ask, warrior, destroy, indonesian, growth, coalit, host, sport, evacu, collaps, th, success, killer, becom, lift, israel, board, confer, convict, southern, speed, plane, franc, illeg, stock, broken, major, pair, econom, cat, heat, bali, criticis, amid, fiji, rape, figur, effort, memori, alp, teenag, properti, militari, alic, father, produc, yo, councillor, hawk, level, detent, quak, surgeri, white, knight, edg, tri, sri, eagl, anim, v, peac, histori, restrict, rememb, safe, rugbi, michael, kid, afghanistan, russia, pass, shop, forum, befor, global, uni, farewel, telstra, economi, dismiss, reopen, leadership, hurt, phone, mount, medic, stolen, watch, real, diseas, music, posit, human, clark, semi, church, son, prais, wall, avoid, benefit, roll, rio, surviv, crowd, suppli, declar, brown, hotel, leak, tribut, tackl, crow, septemb, fix, mps, bash, scott, squad, beef, s, juli, london, away, seat, held, chanc, explos, philippin, video, pc, russian, seri, danger, invest, giant, tough, wast, bulldog, shock, armi, hundr, sheep, mix, evid, anzac, takeov, term, valley, suffer, flag, jet, kangaroo, book, winner, bronco, receiv, affect, ad, volunt, financi, arm, camp, send, transport, irrig, attempt, late, croc, bridg, histor, seven, given, brumbi, spend, spill, loom, heart, replac, expans, champion, remov, g, stori, alert, donat, k, rare, buy, follow, tv, fraud, possibl, b, revamp, form, jone, higher, syria, gain, forest, place, disabl, isra, role, jame, gaza, resum, spring, import, complet, andrew, bendigo, check, anger, univers, lower, sought, heritag, happi, boom, limit, toni, treatment, appoint, disast, night, lost, cash, explain, address, independ, allow, gay, onlin, coupl, debt, axe, japanes, fruit, member, access, scare, alcohol, caught, surg, ground, walk, hot, keen, hail, petrol, blow, crackdown, creek, zone, dri, coron, retail, cabinet, agreement, surpris, deliv, journalist, bad, solar, relief, sexual, renew, seiz, zimbabw, veteran, travel, palestinian, lanka, corrupt, date, marriag, sugar, chase, withdraw, decid, hall, townsvill, tsunami, cancel, elder, director, underway, recoveri, forecast, breach, resourc, execut, footbal, smash, robberi, slow, domest, jump, plea, thai, construct, appear, territori, reduc, agre, far, block, theft, mackay, africa, friend, survivor, short, cap, cop, ice, merger, gippsland, timor, base, welfar, brother, licenc, biki, creat, general, monitor, commit, n, wit, reserv, kimberley, small, fee, homeless, unveil, recov, asbesto, border, uranium, process, await, beatti, mid, al, ambul, ceo, privat, smoke, reef, drown, social, sector, taxi, riot, donald, pool, compens, pilot, brawl, weekend, committe, harbour, ir, wife, area, card, islam, remot, e, lobbi, incid, traffic, custodi, extra, commission, fed, govt, govern, council, claim, ban, australia, zealand, say, new, report, polic, warn, plan, man, fund, crash\n",
            "2 : fund, ban, govern, feder, govt, boost, council, urg, school, cut, health, wa, nsw, match, water, road, state, seek, smoke, qld, budget, face, hospit, help, sa, group, act, lift, centr, announc, push, region, servic, plan, want, nt, m, consid, mp, project, labor, fight, local, chang, indigen, defend, research, communiti, support, pledg, rais, welcom, work, reject, appeal, share, public, sought, green, new, promis, opposit, victorian, accus, offer, review, minist, union, alcohol, flood, fish, farmer, need, industri, queensland, week, highway, hous, secur, hope, deal, fear, program, court, educ, hit, super, vic, drought, shire, care, year, futur, elect, scheme, tasmanian, extra, concern, drug, job, question, australian, target, cop, propos, mayor, law, protest, tax, receiv, disabl, rule, set, use, million, extend, mental, bid, rural, art, legal, rail, decis, upgrad, nation, export, increas, pay, continu, wont, nurs, criticis, pressur, race, tourism, game, aid, campaign, ad, club, anti, deni, sport, tas, abbott, commit, cancer, lobbi, sale, youth, live, delay, uni, worker, ask, forc, famili, south, busi, hand, food, inquiri, develop, disast, life, park, end, save, demand, pm, spend, attack, revamp, relief, slam, doctor, meet, fail, cost, power, train, tasmania, approv, coast, talk, png, student, threaten, travel, west, make, releas, test, spark, lose, farm, grant, action, violenc, child, vote, protect, bushfir, port, studi, tackl, dog, fed, stop, reform, emerg, transport, eas, china, land, drive, doubt, age, challeng, allow, senat, manag, cattl, blame, liber, energi, aborigin, air, look, close, case, import, black, privat, victim, link, miss, east, track, safeti, coal, prison, fix, victoria, car, homeless, prompt, irrig, invest, children, b, parti, reveal, sydney, north, trade, river, deliv, premier, women, afl, hors, univers, plead, coalit, teacher, canberra, bank, respons, critic, medic, stand, crisi, fine, win, launch, build, home, island, trump, gas, debat, donat, compani, unit, polici, pool, risk, high, month, citi, flag, hunter, uranium, open, parliament, impact, despit, gay, control, sex, solar, wait, renew, clean, claim, row, improv, polit, board, rudd, plea, trial, confid, ralli, confirm, festiv, staff, clear, sell, airport, remain, turnbul, told, player, perth, time, cross, probe, town, film, nrl, anger, expect, money, iraq, agre, commiss, rise, crime, murray, climat, day, spot, declar, domest, pass, drop, offic, bush, leader, financi, drink, woe, media, asbesto, discuss, resid, major, abus, short, world, charg, grower, beef, reduc, amid, howard, russia, begin, issu, gillard, carbon, await, parent, alp, worri, mps, bus, chief, ahead, strike, fli, run, shark, benefit, gold, nz, dam, plant, axe, wild, olymp, address, long, sign, beach, foreign, bodi, place, war, welfar, light, area, join, affect, hold, pacif, investig, anim, dump, surgeri, compens, asylum, given, bridg, return, way, melbourn, councillor, play, list, second, outback, uk, rescu, wast, miner, vow, loom, disput, price, order, fee, telstra, right, crackdown, lake, thai, phone, station, refus, gippsland, death, rate, start, recoveri, better, islam, poll, focus, pakistan, unveil, jail, hear, sector, alic, camp, expans, threat, newcastl, level, boss, aim, big, form, prepar, escap, storm, problem, western, author, ambul, loss, patient, suspend, treatment, fiji, refuge, french, lead, hill, block, forest, firefight, reef, central, admit, marriag, driver, fruit, brisban, independ, come, like, territori, good, creat, dollar, indonesia, agreement, terror, abc, market, explain, chines, nrn, red, jame, buy, alleg, remot, sea, lawyer, broken, stay, posit, oper, resourc, defenc, committe, heritag, countri, k, southern, boat, follow, final, indonesian, footbal, beatti, access, hunt, head, suicid, fall, doubl, fan, adelaid, sack, northern, tv, seeker, leagu, tour, firm, iraqi, free, bay, crop, militari, india, hurt, debt, leav, damag, rebel, kimberley, wind, number, earli, base, possibl, crowd, expert, turn, bring, breach, hall, mackay, mix, cancel, keen, japan, king, break, russian, tourist, site, darwin, marin, team, appoint, remov, beat, peopl, illeg, donald, great, mount, kid, rio, british, indian, produc, offici, line, shop, closur, contract, step, tri, diseas, reach, danger, low, comment, dure, gun, valley, shortag, biki, dri, card, woman, withdraw, owner, corrupt, sheep, kill, hobart, nuclear, swan, young, merger, presid, term, visit, townsvill, iran, memori, brown, wine, pull, condit, tsunami, struggl, far, fuel, product, creek, smith, highlight, royal, decid, church, record, director, process, dismiss, stolen, dairi, post, flu, cricket, aust, key, christma, oil, safe, cup, social, suppli, zimbabw, news, bird, away, grow, franc, cash, white, harbour, resign, john, monitor, peac, walk, intern, shoot, human, judg, properti, avoid, e, limit, st, ice, s, scientist, thousand, flight, quit, clash, tell, bendigo, speed, music, tiger, star, late, battl, candid, histor, mark, caus, survey, philippin, taxi, coach, jump, israel, hour, member, cyclon, befor, blast, happi, anzac, award, prais, burn, cat, hotel, near, toni, korea, role, babi, weather, small, lower, gain, street, assault, retail, sugar, brumbi, check, mid, petrol, g, bomb, anoth, murder, heart, lost, night, whale, global, march, point, rugbi, takeov, grain, economi, blue, veteran, palestinian, girl, growth, guilti, general, truck, titl, al, bail, effort, stage, confer, detent, onlin, fraud, recov, hot, toll, old, dead, kangaroo, convict, seven, restrict, armi, cap, afghan, suffer, tree, japanes, round, troop, andrew, elder, roll, bali, brawl, qanta, teen, peter, rain, ex, book, aussi, econom, cabinet, licenc, zone, men, readi, replac, heat, boy, ground, honour, giant, search, construct, pc, send, hundr, obama, goe, volunt, season, harvest, scott, execut, winner, celebr, caught, figur, tough, surpris, pair, result, speak, rock, n, eye, commission, shot, ship, border, william, reopen, tip, ir, blow, england, stock, real, origin, forum, collaps, killer, london, timor, draw, retir, say, becom, david, arriv, shock, quak, higher, success, son, video, sri, arrest, hawk, resum, spring, capit, champion, arm, reserv, leak, journalist, complet, destroy, profit, lion, host, slow, leadership, africa, watch, syria, clark, predict, bad, surg, coron, injuri, michael, mother, strong, chase, date, interview, survivor, attempt, plane, weekend, rape, seiz, wall, bomber, coupl, chanc, hail, sentenc, wallabi, grand, suspect, croc, eagl, scare, father, ceo, gaza, rare, evacu, raid, isra, sexual, pilot, accid, polic, fatal, surviv, traffic, seat, evid, friend, die, stori, forecast, afghanistan, brother, held, bulldog, crow, lanka, jone, spill, victori, theft, th, ash, boom, bronco, underway, soldier, v, best, blaze, alert, wit, teenag, appear, bash, edg, riot, incid, knight, injur, histori, bull, australia, jet, juli, report, drown, yo, squad, tribut, warrior, wife, septemb, explos, stab, warn, inquest, zealand, seri, friday, crew, custodi, semi, grandstand, drum, socceroo, smash, farewel, rememb, man, podcast, crash, robberi\n",
            "3 : crash, car, fatal, plane, die, kill, driver, man, road, polic, injur, dead, bus, truck, victim, highway, pilot, woman, investig, probe, near, hurt, train, charg, hospit, teen, light, caus, critic, jail, wit, surviv, head, court, report, air, death, site, survivor, hous, yo, speed, escap, sydney, injuri, melbourn, qld, continu, blame, north, famili, bodi, jet, inquest, spark, coast, australian, teenag, befor, leav, boat, children, south, plead, girl, safeti, tourist, guilti, face, boy, black, pair, sentenc, land, stolen, tree, claim, perth, cross, traffic, search, say, toll, drink, nsw, drive, wa, close, west, rescu, school, peopl, avoid, condit, releas, seek, chase, png, adelaid, begin, miss, vic, coron, harbour, rail, home, brisban, river, race, son, bridg, new, recov, offic, high, babi, accus, level, hear, airport, told, men, life, open, hit, east, year, end, elder, mother, park, fear, m, emerg, crew, darwin, russian, militari, prompt, port, nt, arrest, anoth, island, canberra, farewel, lake, indian, pacif, servic, child, trial, day, test, follow, franc, hawk, china, author, southern, central, iraq, victoria, shop, dure, delay, run, tasmania, second, sea, appeal, honour, help, nz, hill, remain, reopen, student, gold, father, sa, clear, rememb, fuel, block, win, power, urg, pakistan, aussi, send, hobart, suffer, live, valley, french, indonesian, bay, walk, suspend, queensland, king, indonesia, inquiri, russia, seven, question, like, fine, tour, india, soldier, young, fight, friend, coupl, bail, suspect, stage, memori, confirm, rise, creek, cattl, warn, sought, time, british, outback, western, launch, women, alleg, beach, station, drug, thai, flight, bendigo, lead, mackay, offici, way, semi, tas, afghanistan, cut, parti, old, tribut, review, alcohol, communiti, plea, damag, northern, ambul, afghan, expert, doubl, tri, hunter, evid, victorian, away, weekend, defend, lose, star, prais, recoveri, link, arriv, kimberley, japan, cup, final, rule, tell, market, world, alic, month, return, hour, hot, street, brother, forc, murray, wall, chang, minist, case, far, ralli, mount, underway, great, accid, aust, video, bad, record, award, armi, reveal, crop, team, mid, taxi, despit, iran, track, care, citi, respons, human, shock, red, act, abc, gippsland, s, resid, nation, hope, state, upgrad, blue, unit, ground, consid, hundr, price, uk, held, fail, break, licenc, set, plan, hunt, feder, roll, chines, law, share, spring, concern, centr, post, townsvill, bring, ship, murder, chief, rais, offer, major, burn, stop, wont, remot, weather, effort, deni, wife, want, board, champion, worker, firefight, kangaroo, visit, pay, safe, limit, await, mayor, england, troop, area, look, surgeri, loss, convict, refus, v, tasmanian, use, resum, newcastl, stab, lost, make, come, compani, water, appear, william, free, explos, christma, build, st, fli, week, defenc, judg, broken, australia, swan, marin, reach, turn, destroy, mark, welcom, heart, good, point, stand, border, attack, leader, hors, countri, work, philippin, govt, spot, gas, sign, wait, scott, fall, control, small, prepar, wind, n, admit, studi, pool, receiv, london, push, kid, tiger, need, save, criticis, doubt, clean, local, farm, big, presid, campaign, custodi, play, ex, term, titl, oil, town, interview, given, leagu, expect, support, highlight, line, club, dam, compens, media, hand, risk, zealand, alp, youth, dog, million, attempt, rock, low, caught, olymp, fund, korea, footbal, arm, ban, renew, council, pull, seat, better, player, region, group, hold, remov, mp, govern, problem, intern, action, aid, rate, watch, th, danger, bush, secur, increas, check, firm, amid, real, doctor, deliv, properti, complet, earli, grant, white, zimbabw, tv, goe, transport, cop, foreign, bank, focus, theft, legal, parent, petrol, public, sheep, ice, storm, slow, africa, anzac, long, stori, john, order, speak, issu, leak, volunt, b, farmer, qanta, spill, possibl, start, patient, crowd, shot, japanes, journalist, fan, super, execut, strike, drop, lawyer, scare, threat, film, retir, demand, meet, zone, dollar, reject, aim, grand, thousand, donat, premier, oper, grain, war, lift, reef, pressur, asylum, reduc, cost, slam, parliament, michael, histori, explain, anim, seri, vow, match, improv, bushfir, evacu, financi, robberi, candid, number, abbott, e, howard, bomber, stock, drown, lanka, jame, treatment, peter, night, blast, pass, killer, phone, sri, pm, union, shire, educ, andrew, lower, busi, church, k, round, boost, affect, terror, bali, sport, talk, senat, travel, surpris, global, seiz, key, uni, cancel, commission, game, hotel, discuss, mix, illeg, forest, bash, challeng, smoke, director, green, wine, veteran, squad, best, coach, threaten, readi, posit, member, reform, fiji, dairi, labor, victori, survey, clash, figur, flood, result, medic, timor, join, battl, boss, fish, owner, comment, promis, collaps, miner, bird, crisi, impact, hall, march, celebr, loom, david, research, protest, bull, rio, boom, seeker, extend, capit, woe, relief, declar, base, donald, privat, cash, pc, sack, bid, solar, season, short, fix, creat, economi, place, social, jump, nurs, list, teacher, disput, staff, withdraw, worri, ad, dismiss, closur, export, univers, profit, g, rural, card, retail, deal, access, lion, manag, money, assault, socceroo, detent, bomb, warrior, predict, heat, cancer, health, indigen, step, job, replac, reserv, industri, decid, royal, coal, mental, cat, ceo, resign, monitor, independ, whale, shark, keen, coalit, nuclear, al, confer, hail, camp, becom, chanc, cabinet, irrig, econom, giant, alert, crow, blow, product, histor, croc, prison, iraqi, draw, struggl, allow, rugbi, buy, cricket, smash, smith, violenc, biki, riot, eagl, surg, ahead, import, higher, spend, clark, crime, breach, extra, revamp, date, wild, rain, role, futur, music, blaze, eye, protect, decis, crackdown, afl, friday, approv, suicid, ask, age, shoot, polit, success, telstra, debat, obama, raid, debt, host, agreement, tip, beatti, committe, brumbi, food, sugar, fruit, beat, harvest, refuge, aborigin, domest, jone, brown, quak, corrupt, fed, pledg, eas, wallabi, uranium, incid, commit, syria, suppli, bronco, sex, invest, knight, dump, agre, onlin, ir, toni, general, announc, unveil, propos, resourc, disast, anti, islam, turnbul, lobbi, cyclon, tsunami, energi, strong, anger, program, sale, grow, fee, councillor, diseas, address, plant, brawl, row, isra, leadership, rebel, disabl, mps, poll, stay, tourism, scientist, israel, polici, shortag, abus, wast, commiss, beef, rudd, develop, opposit, produc, target, elect, grower, liber, growth, gillard, winner, trump, late, gaza, gay, gun, gain, happi, juli, expans, flu, welfar, fraud, forum, form, heritag, appoint, forecast, homeless, vote, festiv, flag, budget, merger, trade, tough, process, project, contract, construct, confid, quit, rape, rare, climat, restrict, book, right, scheme, carbon, cap, sector, sell, septemb, bulldog, benefit, podcast, peac, sexual, art, asbesto, ash, edg, marriag, drum, territori, drought, tax, palestinian, dri, takeov, tackl, axe, news, nrl, nrn, origin, grandstand\n",
            "4 : report, claim, reject, rural, govt, abus, deni, releas, titl, health, council, reveal, new, victori, win, urg, investig, probe, nsw, hospit, highlight, qld, iraq, child, abc, dismiss, kill, death, china, hous, water, wa, sex, attack, minist, talk, group, opposit, card, sa, union, labor, drug, blaze, govern, public, chang, australian, elect, inquiri, live, nt, act, court, land, climat, plan, rise, profit, school, mp, indigen, hit, question, support, job, case, prison, green, state, delay, record, bomb, flood, cost, fail, servic, world, al, nation, worker, industri, assault, slam, iran, m, bushfir, gold, defend, face, dead, pm, senat, defenc, leak, corrupt, vic, damag, region, concern, doctor, victim, pay, iraqi, tax, respons, need, cut, safeti, tas, test, use, second, farmer, cancer, year, disput, set, arrest, consid, hear, deal, commiss, hand, compani, clear, work, risk, life, famili, power, blast, chief, korea, sexual, author, rate, open, speak, children, time, make, play, high, increas, war, rail, mayor, crime, polit, farm, liber, asylum, lawyer, river, amid, forc, demand, png, want, accus, jail, rape, drop, north, road, violenc, review, rebel, south, teacher, law, criticis, compens, final, women, price, air, sale, market, welcom, sydney, doubt, fall, british, link, tell, critic, queensland, loss, home, media, busi, mental, leader, threat, island, west, protect, aussi, care, season, seek, murray, train, fight, problem, tour, econom, suicid, gas, million, impact, miss, student, premier, sack, murder, action, cup, centr, anoth, pc, woman, uk, growth, financi, resid, aborigin, budget, tasmania, royal, right, evid, charg, soldier, coron, reef, chines, staff, aid, lead, armi, coal, abbott, product, tasmanian, bank, fish, food, prompt, order, scientist, coast, unit, feder, offer, crisi, miner, rudd, nuclear, near, detent, nurs, japan, strike, port, human, wait, number, ask, accid, telstra, ban, pacif, legal, storm, protest, pressur, illeg, secur, spark, crop, mix, alp, rais, close, emerg, terror, quit, fix, race, stand, church, develop, patient, news, n, bird, threaten, wont, russian, local, afghan, caus, communiti, target, trade, general, pakistan, leav, doubl, rule, dam, militari, forest, citi, indonesia, alleg, carbon, despit, fraud, improv, help, flu, suspect, hunter, futur, vote, stage, meet, oil, parliament, bush, disabl, adelaid, await, syria, research, boss, success, resign, educ, mps, big, red, airport, journalist, sea, shoot, b, canberra, shortag, independ, energi, push, posit, boost, councillor, countri, challeng, trial, fund, david, discuss, point, drought, breach, russia, refuge, manag, israel, trump, level, parti, perth, park, major, offici, aust, seeker, offic, end, howard, islam, peter, candid, global, woe, star, expect, troop, alcohol, day, olymp, treatment, tourism, bid, anti, plane, economi, uni, nz, melbourn, asbesto, oper, age, babi, french, peopl, head, share, beatti, committe, hope, predict, ex, victorian, hold, old, black, dump, closur, strong, look, brown, confirm, zimbabw, die, girl, shot, free, admit, better, fear, spend, fiji, ship, spot, medic, bodi, hill, shark, blame, retir, tiger, wast, obama, franc, like, row, nrn, project, good, youth, wind, campaign, week, benefit, owner, told, sri, seiz, line, tv, victoria, ambul, receiv, build, afl, station, grain, game, boat, jone, boy, polici, launch, player, dog, presid, club, john, marin, cattl, east, driver, bali, return, continu, fine, england, india, foreign, cross, loom, sign, expert, diseas, surpris, debat, drink, quak, shire, transport, young, fuel, bay, real, indonesian, domest, sector, poll, g, plant, base, leagu, william, team, merger, firm, dairi, anim, turn, explos, jame, match, befor, comment, brisban, deliv, grow, histor, stay, site, hunt, mark, stop, uranium, bomber, blue, run, condit, scheme, invest, bad, beat, parent, michael, debt, whale, injuri, bus, check, indian, th, promis, execut, refus, long, riot, join, jump, money, away, board, surgeri, list, welfar, japanes, camp, shock, key, clean, light, low, stolen, retail, travel, cash, export, complet, christma, palestinian, donald, darwin, teen, studi, collaps, petrol, gillard, higher, anger, fatal, st, broken, control, london, figur, car, incid, coach, process, swan, pilot, western, gaza, honour, follow, clash, ahead, confid, approv, bendigo, lanka, leadership, readi, resourc, s, qanta, phone, judg, timor, break, highway, grand, son, way, properti, possibl, nrl, hors, mother, danger, battl, toni, award, safe, lose, afghanistan, slow, axe, inquest, tourist, block, access, rescu, reform, lake, scott, tree, andrew, turnbul, hotel, rio, kid, prepar, struggl, king, grant, result, watch, newcastl, gun, injur, coalit, super, spill, wit, rock, art, smoke, remain, hurt, appeal, earli, decis, isra, best, cyclon, e, lower, produc, town, mount, wall, seat, irrig, boom, worri, ir, start, harbour, wine, seven, propos, bring, blow, speed, issu, pool, smith, raid, northern, tri, great, contract, beach, ground, drive, stock, sport, philippin, elder, short, mid, search, hobart, eye, white, explain, thousand, book, arm, area, place, post, dure, suppli, save, limit, renew, sheep, wild, reduc, fli, central, member, weather, held, month, volunt, men, hundr, ceo, cop, program, avoid, burn, thai, veteran, commission, surg, affect, intern, cabinet, homeless, grower, expans, suspend, clark, territori, taxi, hour, alic, role, agre, buy, donat, suffer, dollar, knight, street, convict, attempt, wife, southern, father, brother, withdraw, cat, seri, disast, sentenc, lift, bridg, extend, sell, heart, far, film, toll, border, origin, come, shop, ash, drown, allow, given, takeov, bash, creek, truck, valley, champion, pull, jet, track, edg, remov, step, fee, univers, onlin, polic, aim, beef, begin, kangaroo, ice, solar, heritag, visit, interview, teenag, small, ad, lost, heat, brumbi, wallabi, focus, killer, scare, construct, bail, social, ralli, agreement, hot, gay, flag, firefight, escap, croc, rain, africa, effort, warrior, bull, director, restrict, video, host, remot, rare, cricket, import, fed, kimberley, peac, happi, term, hall, privat, fruit, v, prais, cap, licenc, march, friend, caught, custodi, recoveri, draw, address, stori, monitor, spring, capit, eagl, rugbi, reach, hail, keen, tip, lobbi, theft, survey, histori, walk, announc, gippsland, upgrad, reserv, bulldog, traffic, yo, surviv, send, townsvill, crew, k, lion, roll, late, brawl, celebr, forecast, footbal, creat, evacu, marriag, commit, zone, giant, mackay, flight, plea, biki, vow, destroy, crackdown, gain, cancel, appear, decid, music, bronco, tackl, anzac, tough, sought, pair, unveil, outback, dri, becom, stab, socceroo, weekend, crowd, night, chanc, survivor, winner, juli, eas, festiv, date, friday, sugar, goe, replac, harvest, smash, chase, pledg, man, memori, extra, squad, round, alert, hawk, semi, zealand, appoint, robberi, revamp, forum, fan, coupl, crow, pass, guilti, plead, tsunami, relief, arriv, form, drum, recov, reopen, resum, confer, declar, underway, farewel, tribut, australia, septemb, podcast, rememb, crash, say, warn, grandstand\n",
            "5 : man, charg, murder, jail, court, polic, stab, face, arrest, miss, assault, accus, die, attack, guilti, death, kill, child, car, shoot, sydney, sex, search, plead, alleg, bash, shot, drug, woman, dead, rape, accid, bail, sentenc, melbourn, injur, bodi, home, hospit, hit, year, attempt, fall, trial, robberi, run, brisban, yo, elder, coast, hous, fatal, custodi, wife, perth, fine, arm, drive, canberra, question, gun, girl, sexual, rescu, stand, critic, drown, theft, dure, gold, fight, hunt, refus, park, adelaid, hold, teen, near, life, convict, admit, offic, deni, train, tri, road, told, abus, incid, appeal, bomb, blaze, set, explos, second, dog, darwin, escap, threat, unit, avoid, want, station, famili, brawl, nsw, babi, appear, case, qld, fraud, releas, river, australian, win, south, help, break, old, burn, citi, seek, chase, boat, head, wa, north, m, lose, crime, hurt, ex, doubl, hear, beach, hotel, threaten, truck, sa, held, shop, west, hill, suspect, use, fear, teenag, time, continu, mother, raid, injuri, friend, leav, caught, new, son, k, nt, children, grant, boy, taxi, condit, homeless, shark, beat, street, driver, tree, stolen, smash, surviv, day, disabl, walk, claim, drink, rock, hour, suspend, hobart, tasmanian, club, act, school, blast, sea, newcastl, speed, link, bus, queensland, centr, island, anoth, save, axe, brother, mackay, remain, roll, nz, clear, lake, world, nrl, jump, bendigo, recov, servic, land, safe, end, secur, make, bay, vic, film, women, inquest, parti, terror, valley, bank, airport, prison, illeg, suffer, high, broken, victorian, follow, fail, bid, investig, port, onlin, young, month, british, creek, join, water, term, video, father, biki, bali, mount, alic, east, hand, ice, domest, award, plane, townsvill, mental, given, croc, cut, flood, st, sought, record, tourist, import, peopl, point, flight, order, petrol, report, ban, coron, concern, squad, free, highway, uk, resum, befor, tell, pull, disput, lead, worker, collaps, return, men, probe, spring, cup, hunter, farm, storm, plan, million, phone, parent, tas, turn, china, lost, aust, site, hope, central, student, harbour, victoria, law, king, chines, test, coupl, ship, suicid, public, work, victim, outback, japanes, stop, final, fish, night, danger, eagl, live, protest, build, blue, seiz, away, play, christma, breach, plea, s, caus, thai, sell, communiti, properti, track, wit, anim, cross, indian, cash, forc, surgeri, dump, card, northern, pool, judg, race, post, riot, receiv, cop, open, interview, bush, tiger, violenc, black, deal, gippsland, money, confirm, row, crop, weekend, shock, honour, commit, offer, plant, step, detent, v, sign, gay, london, week, await, suppli, role, big, png, wait, good, food, chang, nurs, aborigin, spark, best, damag, drop, gas, board, clash, hors, goe, speak, th, pay, camp, bushfir, kimberley, game, bridg, pair, sale, safeti, indonesian, right, target, look, indigen, start, victori, doctor, way, bad, begin, say, meet, flu, remov, send, tasmania, philippin, eye, rememb, footbal, defenc, power, japan, church, challeng, becom, busi, star, scare, match, murray, support, nation, draw, evid, complet, state, bulldog, spend, edg, treatment, urg, michael, cat, compens, swan, john, blow, white, kangaroo, grow, local, execut, oper, histor, war, care, killer, jet, emerg, visit, contract, industri, french, real, leagu, william, like, date, fund, rule, expect, push, strike, light, grand, talk, knight, western, launch, posit, age, come, group, respons, book, blame, lawyer, tip, great, player, health, bronco, debt, kid, key, traffic, cricket, close, aid, warrior, ask, job, andrew, titl, heart, bird, wild, boss, southern, battl, council, medic, defend, iraq, late, parliament, town, histori, far, remot, issu, ahead, hall, ambul, air, long, alcohol, media, celebr, n, reach, stori, owner, readi, team, soldier, dam, block, rail, music, youth, diseas, season, resid, jame, aussi, author, dollar, anti, bull, syria, inquiri, seven, tax, despit, rise, coach, lift, stay, control, struggl, fiji, armi, retir, upgrad, staff, red, forest, wall, festiv, mid, consid, review, tribut, pm, destroy, rais, alert, line, cost, indonesia, spot, compani, area, reveal, weather, declar, islam, prais, isra, limit, reject, reduc, smoke, cattl, loss, crew, legal, premier, govt, al, ralli, strong, protect, peter, social, human, share, veteran, ground, bring, tv, tsunami, farewel, fli, futur, fan, underway, offici, action, sheep, union, hot, jone, extra, peac, militari, england, base, welfar, doubt, decis, brown, elect, russia, possibl, zealand, march, construct, evacu, cancer, univers, royal, region, highlight, uni, effort, govern, semi, comment, manag, aim, licenc, mark, art, trump, minist, rare, demand, confid, lion, renew, india, afl, abc, israel, refuge, round, winner, socceroo, chief, watch, coal, memori, abbott, anzac, oil, countri, earli, pacif, need, delay, intern, mayor, teacher, dismiss, feder, wont, champion, pakistan, place, farmer, zone, crowd, major, market, whale, campaign, extend, member, stage, seri, palestinian, risk, travel, rebel, buy, firm, seat, arriv, super, presid, turnbul, obama, prepar, pass, chanc, deliv, surpris, transport, mp, clark, criticis, sport, happi, number, heat, marin, asbesto, privat, rural, howard, flag, e, franc, thousand, cap, quak, bomber, green, wallabi, clean, heritag, reserv, g, iran, reef, list, tour, rugbi, smith, fruit, origin, leader, ad, recoveri, improv, firefight, sri, prompt, border, check, access, olymp, welcom, cyclon, sack, amid, wine, troop, educ, korea, afghan, news, decid, slam, wast, allow, problem, hundr, qanta, david, foreign, fuel, fix, mps, territori, invest, keen, harvest, boost, worri, stock, focus, leak, polit, ash, scheme, drum, financi, result, tough, agre, scott, asylum, small, scientist, increas, woe, zimbabw, crash, project, produc, trade, approv, labor, rain, russian, director, liber, hail, unveil, general, timor, quit, gaza, studi, short, donald, pressur, better, anger, opposit, spill, wind, donat, marriag, beatti, global, research, figur, product, crow, slow, announc, vote, develop, disast, climat, promis, volunt, level, africa, econom, debat, restrict, tackl, vow, ceo, poll, iraqi, alp, propos, host, tourism, toni, toll, replac, commiss, lanka, low, pilot, giant, resign, mix, grain, b, withdraw, appoint, uranium, reopen, rio, surg, afghanistan, gillard, form, rate, monitor, pledg, juli, explain, creat, polici, nuclear, program, corrupt, gain, journalist, reform, forum, expert, revamp, boom, success, budget, shortag, price, dri, loom, survivor, drought, fed, dairi, resourc, commission, australia, cancel, councillor, senat, candid, energi, discuss, crackdown, brumbi, growth, shire, survey, coalit, fee, crisi, affect, relief, seeker, process, confer, agreement, beef, impact, solar, economi, pc, hawk, carbon, patient, profit, benefit, takeov, septemb, lower, address, telstra, friday, leadership, eas, grower, higher, merger, rudd, grandstand, export, forecast, sugar, warn, independ, ir, irrig, lobbi, committe, miner, closur, nrn, expans, predict, capit, cabinet, retail, sector, podcast\n",
            "6 : polic, investig, probe, offic, search, hunt, death, arrest, drug, miss, shoot, charg, car, seek, attack, murder, assault, suspect, driver, raid, station, woman, seiz, protest, bodi, alleg, new, kill, help, nsw, chase, teen, crime, fatal, sydney, wit, road, case, stab, drink, chief, commission, appeal, wa, qld, drive, claim, gun, crackdown, arm, target, sex, union, theft, accus, victim, coast, hous, stolen, continu, use, biki, bomb, minist, link, speed, nt, child, robberi, bash, home, dead, releas, clash, hit, question, urg, report, vic, men, court, break, plead, melbourn, violenc, oper, boost, boy, run, brawl, defend, forc, blaze, riot, perth, victoria, dure, sa, concern, fear, school, gold, shot, make, face, number, year, girl, terror, png, act, review, lead, public, brisban, yo, babi, prais, injur, hold, attempt, worri, plan, parti, safeti, weekend, want, pair, train, law, accid, famili, pay, uk, anti, blast, power, boat, secur, interview, jail, inquiri, prison, dog, consid, launch, incid, teenag, inquest, queensland, deni, north, action, indonesian, alcohol, high, killer, trial, test, explos, prepar, video, abus, rape, hope, hear, south, fight, canberra, end, tourist, corrupt, adelaid, suicid, communiti, rescu, park, m, alic, look, centr, near, confirm, british, push, close, peopl, told, govt, work, servic, evid, extra, recov, iraqi, coron, opposit, doubl, escap, promis, spark, mp, day, stop, remain, hotel, youth, threat, offer, region, illeg, unit, head, street, need, fine, thai, respons, west, sexual, london, domest, reject, cut, stand, custodi, darwin, open, campaign, traffic, long, student, mother, ban, tri, clear, feder, properti, man, prompt, rise, second, smash, water, old, plea, bomber, indian, shop, post, leak, increas, victorian, ask, beach, beat, australian, chang, die, drop, reveal, afghan, bank, toll, talk, truck, meet, phone, hunter, suspend, hand, tackl, welcom, begin, support, step, admit, highway, speak, deal, possibl, tasmania, set, rule, bali, million, club, nz, happi, wont, issu, ice, bus, follow, leav, bendigo, busi, children, port, alert, protect, sentenc, budget, river, fail, time, indigen, blame, hill, industri, fraud, fund, watch, aborigin, chines, crop, french, air, threaten, join, cash, k, bid, effort, caus, check, human, mount, christma, site, island, guilti, renew, sack, result, tas, bay, resourc, ex, festiv, hospit, pledg, spring, newcastl, return, squad, honour, group, east, council, major, focus, lake, safe, bail, criticis, remov, coupl, state, track, border, order, danger, hour, record, tell, amid, fiji, g, women, drown, confid, owner, readi, church, delay, leader, media, cop, bushfir, cross, airport, resid, boss, monitor, mackay, gas, free, iraq, caught, worker, lawyer, aust, job, father, await, rock, northern, elder, town, son, expect, disput, anoth, reopen, mental, nation, rais, night, given, philippin, rememb, ahead, young, crowd, lose, pakistan, start, tip, hurt, emerg, strike, tough, big, problem, rebel, timor, commiss, convict, race, taxi, play, citi, aim, anger, st, burn, slam, fall, good, control, turn, central, parent, hobart, staff, broken, cost, extend, ralli, award, creek, care, upgrad, hundr, local, receiv, intern, access, legal, critic, wife, townsvill, light, e, right, highlight, resign, southern, figur, health, breach, polici, shortag, premier, dismiss, war, govern, rate, isra, mayor, member, money, keen, celebr, plant, camp, remot, refus, come, wait, tasmanian, befor, player, decis, fan, china, shock, kimberley, demand, held, kid, limit, pressur, team, nurs, vow, petrol, retir, aid, block, zone, gippsland, hors, labor, offici, king, seven, soldier, bulldog, zimbabw, rail, win, evacu, music, area, dump, pm, forest, s, destroy, detent, damag, storm, announc, injuri, liber, onlin, roll, card, vote, flood, countri, build, india, address, scheme, axe, life, game, sought, visit, western, croc, discuss, sport, valley, closur, line, final, despit, elect, mark, indonesia, memori, live, mid, march, william, better, week, russian, plane, spot, al, lost, improv, sale, appoint, row, food, andrew, social, point, parliament, bridg, program, mps, john, doubt, journalist, risk, propos, arriv, green, cup, doctor, footbal, avoid, reduc, far, success, thousand, match, patient, pull, afl, save, role, way, farm, comment, rural, revamp, slow, level, teacher, gay, outback, royal, asylum, trade, licenc, militari, term, ship, like, surpris, fuel, scare, transport, peac, friend, ground, stay, tree, harbour, black, agre, land, lower, hail, volunt, territori, fish, allow, n, palestinian, month, resum, troop, confer, art, bad, abc, armi, flag, compens, pass, brother, bush, manag, underway, away, pilot, univers, japan, woe, cattl, replac, anzac, posit, red, treatment, dollar, pacif, struggl, islam, afghanistan, shark, judg, book, crew, rio, send, execut, impact, quit, unveil, presid, battl, seeker, nrl, polit, fix, grant, withdraw, candid, affect, grow, debat, sea, key, sign, suppli, grand, survivor, decid, blue, declar, michael, farewel, peter, challeng, anim, becom, medic, capit, explain, firm, welfar, star, commit, futur, japanes, stage, clean, strong, earli, world, murray, goe, contract, restrict, author, complet, shire, cat, deliv, benefit, season, loss, condit, homeless, eye, tribut, sheep, studi, crisi, appear, blow, survey, alp, hot, lift, base, share, scott, olymp, asbesto, zealand, marin, defenc, stock, swan, white, ad, late, wild, draw, say, great, board, histor, tsunami, disast, refuge, tax, jump, africa, age, form, franc, wind, bring, coalit, disabl, low, independ, global, collaps, lobbi, list, quak, rugbi, jet, cyclon, agreement, approv, foreign, clark, pool, fli, th, sri, firefight, place, b, kangaroo, gaza, loom, councillor, david, sell, flight, reach, cancel, walk, fed, tour, predict, brumbi, iran, reform, flu, cabinet, obama, general, uni, tv, stori, eas, market, eagl, gain, cricket, surviv, round, beatti, compani, reserv, smoke, creat, travel, hall, pc, farmer, israel, expert, process, privat, film, weather, dam, bird, histori, ambul, forum, abbott, beef, semi, wine, higher, england, date, russia, surg, coal, wast, leagu, senat, reef, real, surgeri, aussi, fruit, educ, fee, smith, mix, origin, tiger, jame, develop, lion, cap, donat, import, spill, seri, committe, rare, dri, knight, buy, brown, drought, wall, news, seat, invest, heritag, climat, marriag, director, grower, nuclear, poll, spend, toni, lanka, relief, recoveri, construct, bronco, project, miner, howard, super, heart, small, price, cancer, edg, host, juli, chanc, wallabi, oil, short, merger, veteran, financi, ir, best, research, suffer, syria, v, bull, qanta, donald, rain, korea, whale, gillard, leadership, growth, produc, debt, export, boom, solar, jone, dairi, takeov, ash, giant, expans, econom, trump, titl, tourism, victori, crash, warn, champion, energi, friday, drum, product, profit, socceroo, heat, sugar, harvest, retail, uranium, turnbul, scientist, irrig, rudd, coach, ceo, podcast, australia, warrior, winner, carbon, sector, telstra, hawk, crow, septemb, grain, diseas, forecast, economi, nrn, grandstand\n",
            "7 : australia, day, south, v, cup, world, test, india, new, say, cricket, win, china, england, ash, post, western, zealand, lead, central, tour, live, pakistan, indonesia, trade, seri, africa, northern, refuge, honour, return, year, team, deal, report, celebr, set, beat, face, urg, head, gold, nation, sri, chang, victori, west, help, visit, record, women, second, highlight, make, aid, japan, lanka, png, asylum, rate, need, nz, region, open, free, final, play, run, talk, sign, secur, futur, look, arriv, plan, best, olymp, squad, want, work, ban, clark, fight, home, lose, smith, climat, game, pm, claim, hit, foreign, target, match, pacif, war, m, hope, east, coach, rain, council, export, boost, industri, award, meet, bid, seeker, host, join, rise, leav, presid, minist, welcom, terror, come, rural, share, start, becom, chief, seven, iraq, ralli, rio, big, end, launch, anim, continu, risk, food, whale, close, right, build, push, chines, militari, fund, defenc, attack, prepar, announc, star, strike, fiji, law, clean, cut, busi, case, fed, job, dairi, fall, beef, indigen, pay, ahead, time, north, eye, increas, power, review, energi, order, research, high, readi, man, vote, crisi, agreement, tax, miss, histori, drug, timor, rule, send, develop, cost, polici, grow, seek, indonesian, support, victoria, doubl, polic, intern, rugbi, tourism, threat, earli, turn, stay, place, concern, econom, hous, weather, ceo, market, discuss, confirm, trump, leader, price, indian, island, role, tri, forc, use, global, expert, anti, david, track, chase, control, campaign, speak, import, mark, hold, search, draw, reach, cattl, race, water, prais, white, offer, boss, seat, drop, elect, th, polit, bank, product, accus, rudd, goe, economi, peopl, black, program, way, commit, govern, battl, invest, flu, bird, boom, confid, tasmania, john, bring, abbott, farm, player, southern, troop, challeng, number, stop, list, aborigin, flood, begin, worker, sea, fear, act, wont, death, remain, sydney, consid, green, court, afghanistan, improv, rememb, solar, lift, health, edg, budget, adelaid, sport, stand, boat, nt, sex, expect, clash, zimbabw, marriag, state, men, ask, champion, communiti, criticis, debat, row, respons, melbourn, focus, hand, defend, coast, like, loss, famili, human, nuclear, uranium, turnbul, step, good, strong, deni, charg, car, shortag, studi, check, wa, uk, juli, air, reject, chanc, great, peter, reveal, semi, hobart, s, fail, land, perth, posit, countri, pledg, life, appoint, protect, aim, group, fli, resid, slam, nsw, problem, titl, scientist, care, million, die, march, scott, brisban, train, korea, pressur, anoth, school, carbon, grain, key, break, ice, queensland, gas, unveil, premier, produc, howard, project, jame, growth, oil, investig, road, trial, wast, threaten, better, issu, student, wind, youth, spot, art, drought, sale, level, parti, success, demand, long, question, low, debt, warn, victim, e, effort, gun, crime, age, action, farmer, disast, child, tough, bushfir, protest, citi, bali, survey, flight, winner, legal, soldier, remot, tip, afghan, save, tell, compani, follow, manag, russia, walk, franc, injuri, struggl, border, bodi, leagu, tsunami, footbal, london, critic, coal, film, bomb, doctor, young, complet, despit, philippin, abc, anzac, decis, centr, affect, stori, execut, rais, tasmanian, hunt, canberra, major, contract, damag, tourist, alleg, b, mp, declar, feder, iraqi, michael, treatment, histor, heat, line, general, crop, date, suffer, flag, islam, oper, hot, illeg, detent, rescu, quit, collaps, week, old, board, servic, season, andrew, japanes, extend, replac, buy, toni, town, travel, harvest, donat, spend, govt, club, withdraw, predict, cyclon, releas, watch, prison, union, capit, local, australian, bush, unit, sell, univers, receiv, crowd, rare, outback, cap, g, friend, red, mix, sheep, storm, money, woman, onlin, pull, abus, kill, qld, darwin, super, dismiss, royal, wine, drive, base, worri, fish, offici, murray, children, dog, suppli, heart, link, commission, forecast, suspect, blast, deliv, thousand, member, fine, leadership, form, diseas, explain, light, book, plant, obama, delay, card, ground, french, mid, renew, british, safe, shock, educ, sa, befor, violenc, grant, mental, arrest, wild, point, promis, pc, told, reform, disput, independ, drink, agre, media, inquiri, cancel, hail, director, labor, dollar, peac, festiv, appeal, creat, fix, resourc, staff, propos, financi, alert, suspend, stage, public, quak, video, jail, septemb, ad, profit, news, fruit, syria, allow, christma, hunter, eas, decid, ship, dump, blame, emerg, roll, approv, donald, figur, tackl, impact, park, dead, admit, amid, medic, near, clear, pilot, domest, comment, sugar, rock, welfar, beach, lobbi, girl, burn, gillard, gay, music, iran, killer, veteran, gain, miner, station, spring, higher, away, ex, keen, hurt, night, teen, surpris, address, cross, monitor, injur, dri, surviv, judg, hors, compens, tiger, round, social, senat, king, closur, william, short, held, extra, opposit, russian, retir, jet, slow, forum, limit, jone, danger, church, hill, hear, giant, territori, cancer, reopen, late, qanta, wait, babi, vow, axe, safeti, volunt, sector, speed, block, brown, dure, surg, kid, confer, port, happi, small, term, murder, camp, homeless, thai, given, lawyer, cash, raid, process, probe, caus, relief, committe, fan, breach, crash, hospit, grower, fuel, heritag, site, result, poll, bull, shoot, afl, broken, refus, offic, kangaroo, properti, lost, bad, n, wallabi, month, access, coupl, reduc, avoid, tribut, swan, disabl, loom, recoveri, townsvill, remov, cat, elder, stolen, retail, smash, hour, parliament, firm, st, commiss, socceroo, victorian, tv, scare, airport, privat, podcast, tree, marin, far, river, armi, appear, driver, surgeri, boy, anger, real, vic, pass, al, recov, k, suicid, zone, teenag, blue, drown, escap, doubt, mother, reserv, street, shop, blow, grandstand, lion, aussi, shark, shot, seiz, restrict, pool, coalit, kimberley, plane, prompt, liber, convict, israel, scheme, parent, smoke, farewel, alcohol, mayor, stock, nurs, lower, sexual, possibl, resum, rape, toll, lake, irrig, caught, benefit, gippsland, await, highway, crackdown, resign, corrupt, leak, truck, alic, area, wall, expans, telstra, destroy, arm, hundr, mount, wife, brawl, author, forest, newcastl, rebel, revamp, phone, pair, fraud, plead, incid, crew, weekend, reef, knight, mackay, bash, palestinian, biki, woe, sentenc, son, patient, survivor, spark, jump, attempt, underway, tas, isra, nrn, sack, mps, father, interview, custodi, teacher, yo, assault, evid, theft, friday, condit, hall, bus, construct, bridg, journalist, creek, memori, bomber, takeov, dam, guilti, cop, asbesto, shire, grand, ir, riot, bay, spill, harbour, firefight, warrior, crow, accid, wit, merger, origin, brother, explos, upgrad, gaza, candid, uni, petrol, cabinet, transport, licenc, ambul, hotel, rail, alp, owner, bendigo, blaze, valley, eagl, bail, hawk, aust, drum, beatti, fatal, plea, traffic, nrl, sought, croc, inquest, stab, evacu, taxi, councillor, fee, coron, bronco, robberi, bulldog, brumbi\n",
            "8 : say, polic, need, govt, mp, plan, minist, union, expert, council, public, labor, group, report, opposit, wont, govern, new, chang, pm, health, time, wa, mayor, chief, water, lawyer, job, cut, sa, budget, green, farmer, fund, trump, iraq, kill, deal, work, abbott, tax, law, resid, qld, attack, death, cost, premier, elect, state, australian, industri, doctor, hospit, rudd, research, risk, china, servic, good, rise, price, like, nt, help, coach, nation, ban, famili, boss, hous, communiti, drug, offici, right, busi, scientist, nsw, war, worker, turnbul, leader, peopl, pay, victim, want, north, presid, rate, decis, use, liber, act, power, support, readi, world, korea, stay, feder, test, threat, local, safe, fail, talk, polit, school, stop, polici, coalit, forc, hurt, senat, year, futur, john, fight, prison, region, abus, key, manag, man, nuclear, make, queensland, case, iran, author, live, issu, better, howard, grower, win, problem, indigen, road, bank, parti, best, crisi, secur, claim, asylum, syria, face, save, improv, home, trade, obama, high, russia, sale, big, gillard, coal, donald, offic, dead, urg, park, violenc, defenc, day, wast, gas, compani, review, climat, terror, miss, rebel, england, end, remain, rule, team, comment, protect, port, child, murder, vote, possibl, flood, png, toni, rail, critic, train, blame, safeti, long, indonesia, seeker, money, land, sex, studi, south, increas, develop, reform, children, caus, close, evid, andrew, market, affect, open, judg, father, run, peter, crime, head, target, come, aussi, inquiri, coast, control, bush, hit, lead, offer, bomb, shire, owner, return, concern, action, threaten, candid, court, militari, red, sydney, economi, club, carbon, farm, commission, link, media, game, pressur, track, boost, loss, women, adelaid, murray, general, teacher, fix, die, shoot, driver, benefit, smith, refuge, councillor, respons, drought, beatti, david, export, aid, alleg, strike, coron, miner, troop, leav, impact, ex, care, telstra, israel, centr, unit, protest, free, islam, iraqi, way, charg, energi, anti, delay, mental, ir, armi, final, tri, record, number, tough, m, educ, campaign, alp, fall, wit, g, player, play, lose, countri, life, bodi, west, tourism, human, project, nurs, island, afl, short, cup, damag, citi, patient, dog, aust, merger, meet, low, pakistan, dam, car, woman, mother, jail, legal, sack, river, chanc, lost, million, sugar, race, real, staff, hand, trial, oper, plant, success, student, fiji, food, aborigin, import, michael, brown, major, vic, air, earli, accus, ceo, cattl, promis, arrest, drive, investig, despit, church, closur, jone, start, loom, swan, young, qanta, danger, fear, continu, clark, wife, tas, ahead, befor, boat, bring, welfar, great, russian, look, leadership, peac, scott, independ, point, clear, growth, suspect, bali, place, challeng, set, push, al, propos, demand, quit, gold, focus, cancer, indonesian, board, shark, shot, bomber, india, perth, dump, black, releas, slow, scheme, poll, detent, debat, foreign, bad, result, build, tour, brother, uranium, near, east, probe, wallabi, site, mark, limit, posit, alcohol, speed, age, hunter, condit, fuel, parent, financi, toll, fish, tiger, commiss, suicid, white, rape, tasmania, blue, break, econom, resign, produc, season, properti, airport, uk, fee, marriag, hope, super, william, canberra, rural, oil, bushfir, drink, friend, confid, spend, leak, pacif, program, raid, illeg, british, step, strong, hill, victoria, drop, transport, weather, leagu, reduc, lion, term, committe, away, wait, western, town, melbourn, boy, tasmanian, afghan, execut, sign, expect, disast, soldier, olymp, sea, form, sell, origin, sri, fine, biki, newcastl, broken, debt, gay, japan, avoid, line, member, stand, level, star, son, highway, victorian, irrig, turn, ad, abc, far, late, cyclon, babi, jame, corrupt, week, station, send, kid, director, chines, mps, bird, ash, travel, flu, youth, socceroo, boom, beat, access, ambul, brisban, n, cop, product, forest, grant, titl, rescu, sentenc, surpris, reserv, b, king, worri, journalist, breach, royal, ship, grow, suppli, commit, prepar, elder, cash, cross, month, old, bid, petrol, expans, ice, struggl, zimbabw, nz, hold, news, assault, row, deni, sector, storm, area, girl, figur, woe, univers, reef, base, restrict, beach, marin, smoke, invest, address, shortag, surviv, nrl, anim, wind, extra, lobbi, isra, parliament, list, consid, welcom, second, cricket, process, pc, uni, ask, resourc, accid, search, darwin, victori, monitor, gun, dairi, emerg, survey, killer, visit, camp, global, incid, sport, lanka, told, franc, truck, rain, firm, brumbi, retail, destroy, domest, blaze, s, higher, role, medic, bronco, disput, border, reach, hunt, question, share, gaza, rio, seat, video, agreement, palestinian, men, lake, hawk, eas, intern, allow, philippin, fan, timor, injuri, small, french, christma, upgrad, tv, e, surgeri, collaps, rais, blast, remov, relief, stab, deliv, post, plane, thai, veteran, order, knight, retir, card, whale, crow, takeov, bus, crop, seek, eagl, fli, phone, stolen, decid, compens, contract, tree, profit, lift, firefight, recov, privat, happi, spill, kangaroo, sheep, forecast, buy, burn, central, northern, zone, pilot, bay, survivor, film, jet, light, flag, doubl, indian, arm, fed, afghanistan, becom, anoth, revamp, taxi, heart, social, appeal, creat, suffer, shock, wild, scare, heritag, clean, remot, beef, tourist, clash, street, treatment, art, winner, caught, doubt, thousand, croc, pass, spot, grain, stori, alic, axe, defend, london, asbesto, hall, suspend, farewel, forum, festiv, follow, disabl, receiv, hobart, dure, renew, battl, tackl, shop, bendigo, ground, crew, donat, bridg, solar, approv, hundr, hors, teen, inquest, refus, crackdown, territori, match, reject, outback, stock, dollar, japanes, lower, wine, histori, onlin, harbour, st, complet, mackay, cat, kimberley, cap, discuss, ralli, escap, check, diseas, sexual, hear, heat, africa, wall, townsvill, blow, rock, spark, highlight, construct, given, launch, seri, licenc, fatal, agre, rugbi, effort, mount, date, teenag, watch, riot, cabinet, tsunami, traffic, footbal, pledg, hotel, injur, flight, juli, homeless, pull, dri, honour, rare, held, block, pool, explos, walk, coupl, aim, predict, theft, replac, admit, speak, music, extend, recoveri, drown, crowd, seiz, cancel, spring, creek, custodi, guilti, join, withdraw, bull, volunt, hot, quak, giant, valley, bash, grand, roll, award, amid, appear, keen, v, capit, squad, stage, confirm, hour, night, plea, reveal, arriv, tell, chase, appoint, attempt, reopen, announc, book, goe, fraud, begin, fruit, southern, slam, eye, champion, tip, bulldog, declar, jump, yo, alert, mix, draw, brawl, gain, pair, resum, zealand, mid, harvest, seven, gippsland, histor, k, convict, anzac, weekend, march, explain, surg, celebr, nrn, round, dismiss, bail, smash, robberi, underway, memori, th, tribut, anger, septemb, edg, prompt, confer, evacu, host, criticis, warrior, sought, vow, friday, rememb, plead, await, australia, interview, crash, hail, drum, prais, semi, podcast, grandstand, warn, unveil\n",
            "9 : warn, issu, polic, prompt, threat, danger, spark, resid, risk, flood, driver, weather, health, safeti, public, bushfir, travel, farmer, expert, water, rise, govt, nsw, death, tsunami, new, union, storm, attack, wa, cut, chang, road, cyclon, council, rate, north, price, emerg, drug, parent, author, report, qld, group, australia, crisi, doctor, coast, sa, owner, watch, busi, govern, pm, ahead, season, industri, beach, rain, terror, bank, chief, diseas, job, korea, minist, budget, theft, climat, river, hunter, sydney, wind, scientist, south, burn, possibl, mp, drink, victoria, china, nt, australian, high, cost, green, sign, delay, iraq, loom, servic, increas, christma, prepar, power, shortag, flu, say, iran, dog, hit, labor, nuclear, case, avoid, act, tax, hous, phone, car, test, care, impact, school, fine, condit, wild, war, shark, profit, plan, time, use, protest, earli, west, home, crackdown, england, illeg, fish, east, ban, end, state, strike, mayor, secur, croc, indonesia, region, israel, tourist, day, need, drive, worker, fund, weekend, world, readi, boss, drown, face, send, stay, grower, break, hospit, compani, queensland, action, lake, russia, law, come, fuel, remain, tasmanian, debt, tasmania, smoke, loss, leader, blaze, perth, heat, trade, aust, play, vic, lift, opposit, long, cancel, tas, onlin, near, premier, amid, bad, scheme, damag, n, safe, aid, leav, properti, howard, murray, dead, slow, bali, tough, year, continu, check, expect, nation, parti, target, local, research, lead, futur, elect, rescu, econom, carbon, cancer, deal, befor, rudd, cross, rail, pay, pacif, bush, work, alcohol, petrol, blue, card, syria, violenc, communiti, lose, fall, market, telstra, return, southern, asbesto, student, media, children, big, obama, boat, cup, al, problem, whale, bomb, global, sale, renew, india, darwin, chines, aussi, defenc, head, offici, japan, fan, farm, food, liber, child, gas, follow, lawyer, centr, disast, trump, despit, presid, island, closur, clear, speed, peopl, claim, economi, sea, feder, foreign, share, social, race, produc, mps, gippsland, level, brisban, welfar, grow, fatal, ash, central, melbourn, traffic, train, real, drought, victorian, women, gillard, swan, forest, doubl, bird, fight, fiji, offer, port, anti, abbott, crime, accid, indonesian, rural, arm, rule, shire, png, kimberley, restrict, inquiri, park, money, plant, coron, quak, wont, uk, gold, senat, hot, like, hurt, highway, man, black, shot, young, urg, energi, super, develop, forecast, teacher, growth, away, close, studi, record, alert, stop, land, canberra, miner, g, control, hear, breach, stock, philippin, strong, game, open, bay, crash, fail, staff, sri, northern, judg, reserv, campaign, ir, western, kill, set, toll, court, troop, collaps, militari, forc, spend, e, sex, teen, site, gun, qanta, pool, upgrad, nurs, player, stolen, smith, bodi, area, commiss, deliv, given, reef, polit, biki, defend, s, threaten, oper, financi, assault, inquest, wast, tourism, trial, dri, miss, deni, red, prison, indigen, fraud, offic, famili, victim, babi, fear, councillor, make, invest, fix, anim, tree, firefight, adelaid, lanka, abus, beatti, sheep, patient, commission, woe, spot, dure, tour, build, light, fli, pressur, point, push, retail, drop, place, far, armi, coalit, right, begin, win, line, low, truck, turnbul, mental, extend, product, export, pakistan, educ, boom, protect, medic, better, club, sell, higher, dump, olymp, live, dam, age, coal, bring, receiv, start, ship, creek, die, challeng, rock, support, m, sector, boy, video, alp, countri, cricket, jail, air, firm, vote, want, anoth, hobart, legal, oil, talk, shoot, meet, fruit, way, turn, reject, polici, post, limit, clean, sport, airport, critic, major, cattl, leak, second, iraqi, great, becom, lost, escap, mid, cash, run, free, nz, hill, hand, evacu, harvest, final, match, zone, zimbabw, told, unit, cap, spill, border, expans, tri, improv, suicid, fee, review, decis, old, explos, british, corrupt, kid, valley, grain, hors, independ, star, blast, royal, short, board, remov, white, number, youth, manag, mount, stand, attempt, robberi, join, king, caught, town, rais, girl, bid, caus, thai, best, wallabi, franc, import, sack, axe, jump, charg, suppli, peac, alic, appeal, affect, heart, coach, transport, search, woman, hope, project, territori, eas, tip, suffer, respons, asylum, citi, russian, seeker, intern, islam, save, ice, afghanistan, timor, seek, eye, afl, reform, link, accus, french, debat, term, solar, track, riot, releas, life, help, small, buy, contract, newcastl, dollar, visit, consid, fed, raid, indian, injuri, surgeri, john, hunt, crop, aborigin, lower, mother, station, surg, concern, ex, outback, lobbi, destroy, human, flight, step, hail, disput, dairi, arrest, wine, crew, slam, night, comment, retir, church, confid, week, incid, bus, takeov, camp, clark, killer, good, ambul, criticis, victori, st, tell, launch, street, beef, general, propos, pass, donat, jet, rio, spring, poll, monitor, battl, team, festiv, rebel, late, privat, nrn, recoveri, son, socceroo, bridg, alleg, merger, dismiss, construct, million, tiger, homeless, ask, hawk, member, clash, probe, detent, music, brown, scare, uranium, kangaroo, africa, parliament, uni, program, pull, ground, bomber, replac, result, look, th, worri, news, demand, execut, licenc, histori, reveal, titl, ralli, hold, townsvill, william, nrl, hotel, tv, ad, investig, row, goe, list, donald, wall, men, confirm, gaza, interview, afghan, bash, chanc, suspect, mix, struggl, rape, form, isra, grand, focus, marriag, univers, doubt, wait, veteran, b, sexual, elder, pilot, bendigo, treatment, promis, announc, walk, welcom, candid, leagu, hour, volunt, harbour, cat, japanes, refuge, reduc, reach, footbal, marin, creat, bulldog, mackay, cop, gay, abc, grant, committe, boost, blow, shock, withdraw, k, andrew, jone, sentenc, roll, zealand, murder, order, process, scott, survey, agreement, anzac, question, wit, crow, broken, teenag, leadership, month, draw, admit, injur, speak, remot, shop, held, origin, brawl, cabinet, award, access, quit, journalist, art, mark, farewel, director, sugar, aim, block, highlight, commit, friday, date, confer, brother, bull, unveil, forum, success, declar, evid, hall, chase, father, blame, predict, rugbi, custodi, book, extra, smash, role, anger, rare, crowd, seri, giant, squad, michael, flag, yo, celebr, plane, palestinian, surviv, heritag, surpris, domest, figur, disabl, keen, bail, soldier, resourc, posit, london, brumbi, rememb, gain, friend, round, jame, resign, taxi, effort, arriv, approv, base, tackl, allow, champion, prais, pc, benefit, peter, irrig, convict, key, revamp, stab, wife, david, lion, tribut, v, underway, edg, await, reopen, semi, capit, film, beat, toni, recov, pair, survivor, relief, thousand, hundr, seat, ceo, compens, pledg, coupl, address, refus, juli, septemb, appoint, plea, memori, grandstand, eagl, march, stage, knight, stori, winner, discuss, guilti, honour, sought, host, bronco, appear, seiz, suspend, resum, plead, vow, histor, happi, drum, warrior, explain, seven, agre, complet, podcast, decid\n"
          ]
        }
      ]
    },
    {
      "cell_type": "code",
      "source": [
        "np.shape(classified_words)"
      ],
      "metadata": {
        "colab": {
          "base_uri": "https://localhost:8080/"
        },
        "id": "ppA_2F5CkJwJ",
        "outputId": "03e7e345-458d-4beb-91c5-2424e22b2a24"
      },
      "execution_count": 81,
      "outputs": [
        {
          "output_type": "execute_result",
          "data": {
            "text/plain": [
              "(10, 1000)"
            ]
          },
          "metadata": {},
          "execution_count": 81
        }
      ]
    },
    {
      "cell_type": "markdown",
      "source": [
        "### Tokenizer\n",
        "\n",
        "We first need to tokenize every headline (from input) in order to use the model"
      ],
      "metadata": {
        "id": "m7fk3TeyqZh3"
      }
    },
    {
      "cell_type": "code",
      "source": [
        "stemmer = SnowballStemmer('english') # choose language to use for SnowballStemmer\n",
        "tokenizer = RegexpTokenizer(r'[a-zA-Z\\']+')\n",
        "\n",
        "def tokenize(text):\n",
        "    return [\n",
        "        stemmer.stem(word) \n",
        "        for word in tokenizer.tokenize(text.lower())\n",
        "    ]"
      ],
      "metadata": {
        "id": "2NTvkNTMk8zd"
      },
      "execution_count": 75,
      "outputs": []
    },
    {
      "cell_type": "markdown",
      "source": [
        "### Score each headline on each class\n",
        "\n",
        "get the scores of each headline belongs to which topic\n",
        "\n"
      ],
      "metadata": {
        "id": "vZjYbA3aqIGJ"
      }
    },
    {
      "cell_type": "code",
      "source": [
        "lines = [\n",
        "         'Ukraine war: Mariupol ultimatum passes as hundreds shelter in steel mill',\n",
        "         'Hepatitis cases detected in children in Europe and the US',\n",
        "         'Climate change, albinism and me',\n",
        "         'Netflix hints at password sharing crackdown as subscribers fall',\n",
        "]\n",
        "all_line_scores = []\n",
        "for line in lines:\n",
        "    tokenized_line = tokenize(line)\n",
        "    scores = [0 for _ in range(len(classified_words))]\n",
        "    for word in tokenized_line: # for each tokenized word in our line\n",
        "        for i in range(len(classified_words)): # in each class of tokens\n",
        "            classfied_word_len = len(classified_words[i])\n",
        "            for j in range(classfied_word_len): # for each token in the class\n",
        "                classified_word = classified_words[i][j]\n",
        "                if word == loaded_kmeans_feature_names[classified_word]:\n",
        "                    scores[i] += classfied_word_len - j\n",
        "    all_line_scores.append(scores)\n",
        "all_line_scores"
      ],
      "metadata": {
        "colab": {
          "base_uri": "https://localhost:8080/"
        },
        "id": "xNQHugt-k9UK",
        "outputId": "f8f81d59-777d-43a9-f692-464025cd9dba"
      },
      "execution_count": 97,
      "outputs": [
        {
          "output_type": "execute_result",
          "data": {
            "text/plain": [
              "[[1312, 1389, 1437, 1454, 1136, 986, 1412, 1197, 1336, 1220],\n",
              " [1429, 1648, 1521, 1646, 1795, 1733, 1666, 1282, 1667, 1650],\n",
              " [1660, 1601, 1616, 743, 1899, 733, 841, 1870, 1811, 1900],\n",
              " [1403, 1930, 1974, 1387, 1482, 1385, 1758, 1850, 1208, 2345]]"
            ]
          },
          "metadata": {},
          "execution_count": 97
        }
      ]
    },
    {
      "cell_type": "code",
      "source": [
        "np.argmax(all_line_scores, axis=1)"
      ],
      "metadata": {
        "colab": {
          "base_uri": "https://localhost:8080/"
        },
        "id": "I0mXbZukpPTS",
        "outputId": "f2b340b9-a035-4ba3-c48d-9ab672becfa0"
      },
      "execution_count": 100,
      "outputs": [
        {
          "output_type": "execute_result",
          "data": {
            "text/plain": [
              "array([3, 4, 9, 9])"
            ]
          },
          "metadata": {},
          "execution_count": 100
        }
      ]
    },
    {
      "cell_type": "markdown",
      "source": [
        "### Get the class of each headline in possibility-decreased-order"
      ],
      "metadata": {
        "id": "VFyNba0DqpSs"
      }
    },
    {
      "cell_type": "code",
      "source": [
        "np.argsort(all_line_scores, axis=1)[:, ::-1]"
      ],
      "metadata": {
        "colab": {
          "base_uri": "https://localhost:8080/"
        },
        "id": "ht6zVcA7pZJT",
        "outputId": "234c27b0-ac23-4d13-aa92-8a5496379121"
      },
      "execution_count": 111,
      "outputs": [
        {
          "output_type": "execute_result",
          "data": {
            "text/plain": [
              "array([[3, 2, 6, 1, 8, 0, 9, 7, 4, 5],\n",
              "       [4, 5, 8, 6, 9, 1, 3, 2, 0, 7],\n",
              "       [9, 4, 7, 8, 0, 2, 1, 6, 3, 5],\n",
              "       [9, 2, 1, 7, 6, 4, 0, 3, 5, 8]])"
            ]
          },
          "metadata": {},
          "execution_count": 111
        }
      ]
    },
    {
      "cell_type": "markdown",
      "source": [
        "## （真正内容）正式开始"
      ],
      "metadata": {
        "id": "SV1Y43Q-aJK_"
      }
    },
    {
      "cell_type": "markdown",
      "source": [
        "### Build the application"
      ],
      "metadata": {
        "id": "PEK-glMSqzp-"
      }
    },
    {
      "cell_type": "code",
      "source": [
        "class HeadlineRecommender:\n",
        "    \n",
        "    def __init__(self, model_path:str, feature_path:str):\n",
        "        self.stemmer = SnowballStemmer('english') # choose language to use for SnowballStemmer\n",
        "        self.tokenizer = RegexpTokenizer(r'[a-zA-Z\\']+')\n",
        "        self.model = joblib.load(model_path)\n",
        "        self.feature_names = joblib.load(feature_path)\n",
        "        \n",
        "    def __tokenize(self, text):\n",
        "        return [\n",
        "            self.stemmer.stem(word) \n",
        "            for word in self.tokenizer.tokenize(text.lower())\n",
        "        ]\n",
        "\n",
        "    def __classify_one_line(self, line:str, all_ranked_feature_idx:list)->list:\n",
        "        '''Return the scores of the line in each class. The class with higher score has lower index.'''\n",
        "        tokenized_line = self.__tokenize(line)\n",
        "        scores = [0 for _ in range(len(all_ranked_feature_idx))]\n",
        "        for word in tokenized_line: # for each tokenized word in the headline\n",
        "            for i in range(len(all_ranked_feature_idx)): # in each class of token group\n",
        "                one_cluster_ranked_feature_idx = all_ranked_feature_idx[i]\n",
        "                one_cluster_feature_num = len(one_cluster_ranked_feature_idx)\n",
        "                for j in range(one_cluster_feature_num): # for each token in the class\n",
        "                    if word == loaded_kmeans_feature_names[one_cluster_ranked_feature_idx[j]]:\n",
        "                        scores[i] += one_cluster_feature_num - j\n",
        "        # scores example:\n",
        "        #   [[1312, 1389, 1437, 1454, 1136, 986, 1412, 1197, 1336, 1220],\n",
        "        #    [1429, 1648, 1521, 1646, 1795, 1733, 1666, 1282, 1667, 1650],\n",
        "        #    [1660, 1601, 1616, 743, 1899, 733, 841, 1870, 1811, 1900],\n",
        "        #    [1403, 1930, 1974, 1387, 1482, 1385, 1758, 1850, 1208, 2345]]\n",
        "\n",
        "        # return example:\n",
        "        #   array([[3, 2, 6, 1, 8, 0, 9, 7, 4, 5],\n",
        "        #          [4, 5, 8, 6, 9, 1, 3, 2, 0, 7],\n",
        "        #          [9, 4, 7, 8, 0, 2, 1, 6, 3, 5],\n",
        "        #          [9, 2, 1, 7, 6, 4, 0, 3, 5, 8]])\n",
        "        return np.argsort(scores)[::-1]\n",
        "\n",
        "    def __gen_weights(self, arr_len:int)->list:\n",
        "        '''\n",
        "        Assign weights to each element in an 1darray with length `arr_len`. \n",
        "        @return the weights list. Example: [4.0, 3.5, 3.3333333333333335, 3.25, 3.2, 3.1666666666666665, 3.142857142857143]\n",
        "        '''\n",
        "        def f(x, k, b):\n",
        "            return k/(k+x)+b\n",
        "        return [f(x, int(arr_len/5), int(arr_len/2)) for x in range(arr_len)]\n",
        "\n",
        "    def predict(self, curr_headline:str, future_headlines:list):\n",
        "        '''\n",
        "        Predict the relativity of future headlines with current headline.\n",
        "        @return ranked list of future headlines. headline with higher relation with current headline has smaller index in the list.\n",
        "        '''\n",
        "\n",
        "        # all_ranked_feature_idx example:\n",
        "        #   array([[582, 978, 210, ..., 644, 632, 681],\n",
        "        #          [644, 464, 663, ..., 885, 961, 589],\n",
        "        #          [765, 644, 581, ..., 391, 992, 934],\n",
        "        #          ...,\n",
        "        #          [632, 210, 388, ..., 642, 160, 125],\n",
        "        #          [681, 566, 772, ..., 391, 286, 376],\n",
        "        #          [542, 159, 475, ..., 776, 465, 132]])\n",
        "        all_ranked_feature_idx = self.model.cluster_centers_.argsort()[:, ::-1]\n",
        "\n",
        "        # curr_line_category_rank example:\n",
        "        #   array([3, 2, 6, 1, 8, 0, 9, 7, 4, 5])\n",
        "        curr_line_category_rank = self.__classify_one_line(curr_headline, all_ranked_feature_idx)\n",
        "\n",
        "        # all_line_category_rank example:\n",
        "        #   array([[3, 2, 6, 1, 8, 0, 9, 7, 4, 5],\n",
        "        #          [4, 5, 8, 6, 9, 1, 3, 2, 0, 7],\n",
        "        #          [9, 4, 7, 8, 0, 2, 1, 6, 3, 5],\n",
        "        #          [9, 2, 1, 7, 6, 4, 0, 3, 5, 8]])\n",
        "        all_line_category_rank = [] # category rank of curr_headline and future_headlines\n",
        "        for line in future_headlines:\n",
        "            all_line_category_rank.append(self.__classify_one_line(line, all_ranked_feature_idx))\n",
        "        \n",
        "        # tgt rank: [1,2,3]\n",
        "        #            ^ ^ ^\n",
        "        # weights -> 3 2 1\n",
        "        # --------------------\n",
        "        # candidates | score\n",
        "        #  [1,3,2]     9+2+2=13\n",
        "        #  [2,1,3]     6+6+1=13\n",
        "        #  [2,3,1]     6+2+3=11\n",
        "        #  [3,1,2]     3+6+2=11\n",
        "        #  [3,2,1]     3+4+3=10\n",
        "        #   ^ ^ ^\n",
        "        #   3 2 1  <- weights\n",
        "        all_scores = [0 for _ in range(len(all_line_category_rank))]\n",
        "        weights = self.__gen_weights(len(curr_line_category_rank))\n",
        "        \n",
        "        for i in range(len(all_line_category_rank)):\n",
        "            one_rank = all_line_category_rank[i]  # array([4, 5, 8, 6, 9, 1, 3, 2, 0, 7])\n",
        "            for j in range(len(one_rank)):\n",
        "                category, category_w = one_rank[j], weights[j] # 4, 6.3\n",
        "                for k in range(len(curr_line_category_rank)):  # array([3, 2, 6, 1, 8, 0, 9, 7, 4, 5])\n",
        "                    if category == curr_line_category_rank[k]:\n",
        "                        # all_scores example:\n",
        "                        #   [79.235, 79.516, 79.515, 79.370, 79.359, 79.946, 79.380, 79.369, 79.952, 79.469, 80.00, 79.499, 79.293]\n",
        "                        all_scores[i] += category_w * weights[k]\n",
        "\n",
        "        # print([int(s*100)/100 for s in all_scores])\n",
        "        # print(np.argsort(all_scores)[::-1])\n",
        "        ranked_future_headlines_idx = np.argsort(all_scores)[::-1]\n",
        "        ranked_future_headlines = [future_headlines[idx] for idx in ranked_future_headlines_idx]\n",
        "        return ranked_future_headlines\n"
      ],
      "metadata": {
        "id": "xCGbsGyVq1-P"
      },
      "execution_count": 69,
      "outputs": []
    },
    {
      "cell_type": "markdown",
      "source": [
        "### Use the application\n",
        "\n",
        "使用方法：\n",
        "- 准备`joblib`格式保存的 模型 和 `feature_names` 的文件，将文件路径传入`HeadlineRecommender`实例\n",
        "- 准备新闻标题数据集\n",
        "- 传入一个标题字符串，和一个被预测的标题组成的列表，使用`predict`方法开始预测\n",
        "- 返回：一个按照和当前标题相关度排序的标题列表"
      ],
      "metadata": {
        "id": "A9BuXaWzYytz"
      }
    },
    {
      "cell_type": "code",
      "source": [
        "headline_database = [\n",
        "             \"Anguish for thousands trapped in Mariupol as evacuation stalls\",\n",
        "             \"Moscow has deported 500,000 to Russia, says Ukrainian politician\",\n",
        "             \"Ukraine war: Holocaust survivor aged 91 among Mariupol's civilian dead - reports\",\n",
        "             \"Shark Tank: India TV show proves entrepreneurship isn't just for rich\",\n",
        "             \"Afghan refugees 'still stranded' in NI hotels\",\n",
        "             \"Measles outbreak sweeps through Liberia\",\n",
        "             \"Australia election: PM Morrison's security team in car crash in Tasmania\",\n",
        "             \"Australia's koalas: Freeze sperm to save species, say researchers\",\n",
        "             \"Andrew McDonald named coach of Australia's men's cricket team\",\n",
        "             \"China gains a foothold in Australia's backyard\",\n",
        "             \"Damaris Muthee Mutua: Kenya police launch manhunt after athlete killed\",\n",
        "             \"Why Koreans could soon become a year younger\",\n",
        "             \"Wayne Quilliam: Photographing the diversity of Aboriginal Australia\",\n",
        "             \"Irish Travellers say racism is causing a suicide crisis\",\n",
        "]\n",
        "\n",
        "curr_headline = headline_database[0]\n",
        "potencial_headlines = headline_database[1:]"
      ],
      "metadata": {
        "id": "55n5EOjySRb6"
      },
      "execution_count": 50,
      "outputs": []
    },
    {
      "cell_type": "code",
      "source": [
        "hr = HeadlineRecommender(\n",
        "    '/content/k_means_headlines_10_cluster_model.pkl',\n",
        "    '/content/k_means_headlines_1000_max_feature_names.pkl',\n",
        ")\n",
        "hr.predict(curr_headline, potencial_headlines)"
      ],
      "metadata": {
        "colab": {
          "base_uri": "https://localhost:8080/"
        },
        "id": "rWcRlNTvT4Hm",
        "outputId": "a548c5fa-8b07-400d-f1b5-da368815182a"
      },
      "execution_count": 71,
      "outputs": [
        {
          "output_type": "execute_result",
          "data": {
            "text/plain": [
              "['Damaris Muthee Mutua: Kenya police launch manhunt after athlete killed',\n",
              " 'Measles outbreak sweeps through Liberia',\n",
              " \"Australia election: PM Morrison's security team in car crash in Tasmania\",\n",
              " \"Afghan refugees 'still stranded' in NI hotels\",\n",
              " 'Irish Travellers say racism is causing a suicide crisis',\n",
              " 'Why Koreans could soon become a year younger',\n",
              " \"Ukraine war: Holocaust survivor aged 91 among Mariupol's civilian dead - reports\",\n",
              " \"Shark Tank: India TV show proves entrepreneurship isn't just for rich\",\n",
              " 'Wayne Quilliam: Photographing the diversity of Aboriginal Australia',\n",
              " 'Moscow has deported 500,000 to Russia, says Ukrainian politician',\n",
              " \"Australia's koalas: Freeze sperm to save species, say researchers\",\n",
              " \"China gains a foothold in Australia's backyard\",\n",
              " \"Andrew McDonald named coach of Australia's men's cricket team\"]"
            ]
          },
          "metadata": {},
          "execution_count": 71
        }
      ]
    }
  ]
}